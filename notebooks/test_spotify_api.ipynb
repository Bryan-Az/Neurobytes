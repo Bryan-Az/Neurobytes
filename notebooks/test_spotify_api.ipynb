{
  "cells": [
    {
      "cell_type": "markdown",
      "metadata": {
        "id": "view-in-github",
        "colab_type": "text"
      },
      "source": [
        "<a href=\"https://colab.research.google.com/github/Bryan-Az/Neurobytes/blob/main/notebooks/test_spotify_api.ipynb\" target=\"_parent\"><img src=\"https://colab.research.google.com/assets/colab-badge.svg\" alt=\"Open In Colab\"/></a>"
      ]
    },
    {
      "cell_type": "code",
      "execution_count": 9,
      "metadata": {
        "colab": {
          "base_uri": "https://localhost:8080/"
        },
        "id": "zQVPVULlQjLy",
        "outputId": "d949a567-1ee8-4b51-e544-5e6c1888f4e8"
      },
      "outputs": [
        {
          "output_type": "stream",
          "name": "stdout",
          "text": [
            "Requirement already satisfied: python-dotenv in /usr/local/lib/python3.10/dist-packages (1.0.1)\n"
          ]
        },
        {
          "output_type": "execute_result",
          "data": {
            "text/plain": [
              "True"
            ]
          },
          "metadata": {},
          "execution_count": 9
        }
      ],
      "source": [
        "import requests\n",
        "# access colab secrets .env\n",
        "!pip install python-dotenv\n",
        "from dotenv import load_dotenv\n",
        "load_dotenv()"
      ]
    },
    {
      "cell_type": "markdown",
      "source": [
        "# Data Related to the Spotify API"
      ],
      "metadata": {
        "id": "rx--dKrrWFAX"
      }
    },
    {
      "cell_type": "markdown",
      "source": [
        "Main Discovery Objective:\n",
        "To identify data that can provide Song-to-Song similarity information based on musicality.\n",
        "\n",
        "\n",
        "---\n",
        "\n",
        "The spotify API is able to retrieve data for select artists, albums and shows and other collections within Spotify's content like podcasts or playlists that may help us build alternative sets of information outside of the API from where we can begin."
      ],
      "metadata": {
        "id": "0fZ70UJFWtQr"
      }
    },
    {
      "cell_type": "code",
      "source": [
        "import os\n",
        "SPOTIFY_CLIENT_ID = os.getenv('client_id')\n",
        "SPOTIFY_CLIENT_SECRET = os.getenv('client_secret')"
      ],
      "metadata": {
        "id": "rj6PkYhtRbex"
      },
      "execution_count": 10,
      "outputs": []
    },
    {
      "cell_type": "code",
      "execution_count": 88,
      "metadata": {
        "id": "n8zRio2XQjLz"
      },
      "outputs": [],
      "source": [
        "def get_access_token(client_id, client_secret):\n",
        "    url = 'https://accounts.spotify.com/api/token'\n",
        "    headers = {\n",
        "        'Content-Type': 'application/x-www-form-urlencoded'\n",
        "    }\n",
        "    payload = {\n",
        "        'grant_type': 'client_credentials'\n",
        "    }\n",
        "    response = requests.post(url, headers=headers, data=payload, auth=(client_id, client_secret))\n",
        "    if response.status_code == 200:\n",
        "        return response.json()['access_token']\n",
        "    else:\n",
        "        raise Exception(\"Failed to retrieve access token\")\n"
      ]
    },
    {
      "cell_type": "code",
      "execution_count": 89,
      "metadata": {
        "id": "LGblk66xQjL0"
      },
      "outputs": [],
      "source": [
        "access_token = get_access_token(SPOTIFY_CLIENT_ID, SPOTIFY_CLIENT_SECRET)"
      ]
    },
    {
      "cell_type": "markdown",
      "source": [
        "## Artist-Specific Data"
      ],
      "metadata": {
        "id": "20wfCc7pV-Tk"
      }
    },
    {
      "cell_type": "code",
      "execution_count": 95,
      "metadata": {
        "id": "KU5bUwqjQjL1"
      },
      "outputs": [],
      "source": [
        "def get_artist_data(access_token, artist_id):\n",
        "    '''\n",
        "    This function retrieves artist data from the Spotify API using the provided access token and artist ID.\n",
        "    '''\n",
        "    url = f'https://api.spotify.com/v1/artists/{artist_id}'\n",
        "    headers = {\n",
        "        'Authorization': f'Bearer {access_token}'\n",
        "    }\n",
        "    response = requests.get(url, headers=headers)\n",
        "    if response.status_code == 200:\n",
        "        return response.json()\n",
        "    else:\n",
        "        if response.status_code == 404:\n",
        "            raise Exception(\"Artist not found\")\n",
        "        elif response.status_code == 401:\n",
        "            get_access_token(SPOTIFY_CLIENT_ID, SPOTIFY_CLIENT_SECRET)\n",
        "            return get_artist_data(access_token, artist_id)\n",
        "        else:\n",
        "          raise Exception(\"Failed to retrieve artist data\")\n"
      ]
    },
    {
      "cell_type": "code",
      "execution_count": 91,
      "metadata": {
        "colab": {
          "base_uri": "https://localhost:8080/"
        },
        "id": "DP3CBI7EQjL2",
        "outputId": "ad4edf96-d819-4bd3-e6e4-09e65895c753"
      },
      "outputs": [
        {
          "output_type": "stream",
          "name": "stdout",
          "text": [
            "{'external_urls': {'spotify': 'https://open.spotify.com/artist/1vCWHaC5f2uS3yhpwWbIA6'}, 'followers': {'href': None, 'total': 22658238}, 'genres': ['dance pop', 'edm', 'pop', 'pop dance'], 'href': 'https://api.spotify.com/v1/artists/1vCWHaC5f2uS3yhpwWbIA6', 'id': '1vCWHaC5f2uS3yhpwWbIA6', 'images': [{'height': 640, 'url': 'https://i.scdn.co/image/ab6761610000e5ebae07171f989fb39736674113', 'width': 640}, {'height': 320, 'url': 'https://i.scdn.co/image/ab67616100005174ae07171f989fb39736674113', 'width': 320}, {'height': 160, 'url': 'https://i.scdn.co/image/ab6761610000f178ae07171f989fb39736674113', 'width': 160}], 'name': 'Avicii', 'popularity': 78, 'type': 'artist', 'uri': 'spotify:artist:1vCWHaC5f2uS3yhpwWbIA6'}\n"
          ]
        }
      ],
      "source": [
        "artist_id = '1vCWHaC5f2uS3yhpwWbIA6'  # This is the artist ID for Avicii\n",
        "artist_data = get_artist_data(access_token, artist_id)\n",
        "print(artist_data)"
      ]
    },
    {
      "cell_type": "code",
      "source": [
        "artist_data.keys()"
      ],
      "metadata": {
        "colab": {
          "base_uri": "https://localhost:8080/"
        },
        "id": "lM4V2WtzYrx_",
        "outputId": "818de95e-ee31-48a0-cbbb-5951f84df08b"
      },
      "execution_count": 96,
      "outputs": [
        {
          "output_type": "execute_result",
          "data": {
            "text/plain": [
              "dict_keys(['external_urls', 'followers', 'genres', 'href', 'id', 'images', 'name', 'popularity', 'type', 'uri'])"
            ]
          },
          "metadata": {},
          "execution_count": 96
        }
      ]
    },
    {
      "cell_type": "code",
      "source": [
        "artist_data['genres']"
      ],
      "metadata": {
        "colab": {
          "base_uri": "https://localhost:8080/"
        },
        "id": "ZoG-4QUemGg3",
        "outputId": "bac86f37-b181-4867-9e02-83d8258aed08"
      },
      "execution_count": 127,
      "outputs": [
        {
          "output_type": "execute_result",
          "data": {
            "text/plain": [
              "['dance pop', 'edm', 'pop', 'pop dance']"
            ]
          },
          "metadata": {},
          "execution_count": 127
        }
      ]
    },
    {
      "cell_type": "code",
      "source": [
        "def get_artist_albums(access_token, artist_id):\n",
        "  '''\n",
        "  This function retrieves a list of albums for a given artist using the Spotify API.\n",
        "  returns: list of albums for the artist\n",
        "  '''\n",
        "  # part 1 extracts the album information without the tracks\n",
        "  include_groups = 'album'\n",
        "  url = f'https://api.spotify.com/v1/artists/{artist_id}/albums/?include_groups={include_groups}'\n",
        "  headers = {\n",
        "      'Authorization': f'Bearer {access_token}'\n",
        "  }\n",
        "  response = requests.get(url, headers=headers)\n",
        "  if response.status_code == 200:\n",
        "        return response.json()\n",
        "  else:\n",
        "      if response.status_code == 404:\n",
        "          raise Exception(\"Artist not found\")\n",
        "      elif response.status_code == 401:\n",
        "          get_access_token(SPOTIFY_CLIENT_ID, SPOTIFY_CLIENT_SECRET)\n",
        "          return 'Try again, new token generated'\n",
        "      else:\n",
        "        raise Exception(\"Failed to retrieve artist data\")"
      ],
      "metadata": {
        "id": "lRMDVG0CY_xr"
      },
      "execution_count": 122,
      "outputs": []
    },
    {
      "cell_type": "code",
      "source": [
        "# setting include_group to album only to return only this artists own albums\n",
        "artist_albums = get_artist_albums(access_token, artist_id)"
      ],
      "metadata": {
        "id": "IXZFbWG-ZGvN"
      },
      "execution_count": 123,
      "outputs": []
    },
    {
      "cell_type": "markdown",
      "source": [
        "The available metadata available for the artist album's returned."
      ],
      "metadata": {
        "id": "KzKBzVnBa2Gc"
      }
    },
    {
      "cell_type": "code",
      "source": [
        "# might be redundant information if the include_group is set\n",
        "for i in artist_albums:\n",
        "  print(i['name'] + ' ' + i['album_group'] + ' '+ i['album_type'])"
      ],
      "metadata": {
        "colab": {
          "base_uri": "https://localhost:8080/"
        },
        "id": "lfEf-p2ybHWW",
        "outputId": "fe39c159-cefa-4633-83a6-798e0ce1a651"
      },
      "execution_count": 78,
      "outputs": [
        {
          "output_type": "stream",
          "name": "stdout",
          "text": [
            "TIM album album\n",
            "Stories album album\n",
            "True: Avicii By Avicii album album\n",
            "The Days / Nights album album\n",
            "True (Bonus Edition) album album\n",
            "True album album\n",
            "Malo (The Cube Guys Remix) single single\n",
            "Street Dancer (Sgt Slick's Discotizer 2022 Remix) single single\n",
            "My Feelings For You (Mark Knight Remix) single single\n",
            "My Feelings For You (Don Diablo Remix) single single\n",
            "Forever Yours (Avicii Tribute) single single\n",
            "Fades Away (feat. MishCatt) [Tribute Concert Version] single single\n",
            "Heaven (David Guetta & MORTEN Remix) single single\n",
            "Tough Love (Tiësto Remix) single single\n",
            "SOS (Laidback Luke Tribute Remix) single single\n",
            "Tough Love (feat. Vargas & Lagola) single single\n",
            "SOS (feat. Aloe Blacc) single single\n",
            "Lonely Together (Remixes) single single\n",
            "Lonely Together (Acoustic) single single\n",
            "Without You (Remixes) single single\n"
          ]
        }
      ]
    },
    {
      "cell_type": "code",
      "source": [],
      "metadata": {
        "id": "G4IPmxegYmHN"
      },
      "execution_count": null,
      "outputs": []
    }
  ],
  "metadata": {
    "kernelspec": {
      "display_name": "Python 3",
      "language": "python",
      "name": "python3"
    },
    "language_info": {
      "codemirror_mode": {
        "name": "ipython",
        "version": 3
      },
      "file_extension": ".py",
      "mimetype": "text/x-python",
      "name": "python",
      "nbconvert_exporter": "python",
      "pygments_lexer": "ipython3",
      "version": "3.8.19"
    },
    "colab": {
      "provenance": [],
      "include_colab_link": true
    }
  },
  "nbformat": 4,
  "nbformat_minor": 0
}