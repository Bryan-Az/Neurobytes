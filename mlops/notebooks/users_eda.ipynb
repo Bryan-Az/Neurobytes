{
  "nbformat": 4,
  "nbformat_minor": 0,
  "metadata": {
    "colab": {
      "provenance": [],
      "authorship_tag": "ABX9TyN4rro4IN3xT8GqzV6YkDgi",
      "include_colab_link": true
    },
    "kernelspec": {
      "name": "python3",
      "display_name": "Python 3"
    },
    "language_info": {
      "name": "python"
    }
  },
  "cells": [
    {
      "cell_type": "markdown",
      "metadata": {
        "id": "view-in-github",
        "colab_type": "text"
      },
      "source": [
        "<a href=\"https://colab.research.google.com/github/Bryan-Az/Neurobytes/blob/notebooks/mlops/notebooks/users_eda.ipynb\" target=\"_parent\"><img src=\"https://colab.research.google.com/assets/colab-badge.svg\" alt=\"Open In Colab\"/></a>"
      ]
    },
    {
      "cell_type": "markdown",
      "source": [
        "# Exploratory Data Analysis of the Synthetic User Preferences\n",
        "\n",
        "\n",
        "## Spotify Million Song Dataset (Via Kaggle)\n",
        "This synthetic dataset was generated with the Kaggle 'Spotify Million Song' dataset.\n",
        "\n",
        "The original data contains the features:\n",
        "\n",
        "- 'artist': The name of the artist\n",
        "- 'song': The name of the song\n",
        "- 'text': The song lyrics\n",
        "- 'link': The link to the song via spotify api\n",
        "\n",
        "A sample of 10,000 rows was selected from this dataset to calculate synthetic user preferences, as the original dataset is very large. The document-term matrix was calculated, where each song is a document and the words in the lyrics are the terms.\n",
        "\n",
        "## Synthetic User Preference Data\n",
        "\n",
        "The cosin similarity was calculated, representing the similarity between from songs-to-songs by their lyrics. This data was then used to calculate synthetic user data by sampling a 'starter' song for each user, and then using the top 3 similar songs to the original song as their sample user preferences. Then, the following two columns were added to a new user preferences dataset:\n",
        "\n",
        "- 'songID': a many-to-one foreign key to the original song dataset.\n",
        "- 'userID': a many-to-one userID index.\n",
        "\n",
        "Our synthetic user prefernce generator selects n_starter songs and then uses cosin similarity to select n further top-n similar songs for the original n_starter song, such that each user will have a variety of 'tastees'.\n",
        "\n",
        " For example, each 'song cluster' sample (n_starter) includes self (original song) with similarity of 1, then included n similar songs (starter song + n similar songs).\n",
        "  \n",
        "  To calculate the size, for example, n = 3, songs_per_user = 50, num_users=1000\n",
        "  returns: num_users * (n + 1) * (songs_per_user) = ~200,000 preferences (variable as n_starter is random value between 40-50).\n",
        "\n"
      ],
      "metadata": {
        "id": "5g2xTmM-g4IN"
      }
    },
    {
      "cell_type": "code",
      "source": [
        "from pydrive.auth import GoogleAuth\n",
        "from pydrive.drive import GoogleDrive\n",
        "from google.colab import auth\n",
        "from oauth2client.client import GoogleCredentials\n",
        "import pandas as pd"
      ],
      "metadata": {
        "id": "6mDz1E8vfalX",
        "colab": {
          "base_uri": "https://localhost:8080/"
        },
        "outputId": "d9191fea-4713-4a33-eb81-e6c28fd4ac8b"
      },
      "execution_count": 2,
      "outputs": [
        {
          "output_type": "stream",
          "name": "stderr",
          "text": [
            "WARNING:root:pydrive is deprecated and no longer maintained. We recommend that you migrate your projects to pydrive2, the maintained fork of pydrive\n"
          ]
        }
      ]
    },
    {
      "cell_type": "code",
      "source": [
        "auth.authenticate_user()\n",
        "gauth = GoogleAuth()\n",
        "gauth.credentials = GoogleCredentials.get_application_default()\n",
        "drive = GoogleDrive(gauth)"
      ],
      "metadata": {
        "id": "ioMVbCMNffNJ"
      },
      "execution_count": 3,
      "outputs": []
    },
    {
      "cell_type": "code",
      "execution_count": 4,
      "metadata": {
        "id": "ETIht1QhfFZJ"
      },
      "outputs": [],
      "source": [
        "users_glink = 'https://drive.google.com/file/d/1fw3kszKGlaz4x6oMgCMNmY_s3ejwdGxT/view?usp=drive_link'\n",
        "filename = 'user_preferences.csv'"
      ]
    },
    {
      "cell_type": "code",
      "source": [
        "def get_link_content(link, name):\n",
        "  file_id = link.split('/')[-2]\n",
        "  downloaded = drive.CreateFile({'id': file_id})\n",
        "  downloaded.GetContentFile(name)"
      ],
      "metadata": {
        "id": "JrAAftgBfri1"
      },
      "execution_count": 5,
      "outputs": []
    },
    {
      "cell_type": "code",
      "source": [
        "get_link_content(users_glink, filename)"
      ],
      "metadata": {
        "id": "-DOxJ4rFftxb"
      },
      "execution_count": 6,
      "outputs": []
    },
    {
      "cell_type": "code",
      "source": [
        "user_preferences = pd.read_csv(filename, index_col=0).sort_values(by='userID').loc[:, ['userID','songID', 'artist', 'song', 'text', 'link']]"
      ],
      "metadata": {
        "id": "sDRuT4nWfuUn"
      },
      "execution_count": 7,
      "outputs": []
    },
    {
      "cell_type": "code",
      "source": [
        "user_preferences.shape"
      ],
      "metadata": {
        "colab": {
          "base_uri": "https://localhost:8080/"
        },
        "id": "UrpbK07elgyB",
        "outputId": "97f79e65-ef75-445f-eba5-f228066c1381"
      },
      "execution_count": 19,
      "outputs": [
        {
          "output_type": "execute_result",
          "data": {
            "text/plain": [
              "(178340, 6)"
            ]
          },
          "metadata": {},
          "execution_count": 19
        }
      ]
    },
    {
      "cell_type": "markdown",
      "source": [
        "# Identifying the 'Favorite'/'Most Listened' to Artist's\n",
        "\n",
        "As the algorithm to generate synthetic user preferences assigned users clusters of songs that had fairly similar cosin similarity (at random, based on samples of the main dataset) using the lyric information, every user should have a different set of artists and a different ranking of artists by # songs within the user preferences dataset."
      ],
      "metadata": {
        "id": "kOuUDyH7pgsp"
      }
    },
    {
      "cell_type": "code",
      "source": [
        "preference_size_distribution = user_preferences.groupby('userID').count().describe()['songID'] # the general distribution of # of songs per user, for 1000 users\n",
        "preference_size_distribution"
      ],
      "metadata": {
        "colab": {
          "base_uri": "https://localhost:8080/"
        },
        "id": "TxE8tW9qf6wy",
        "outputId": "b805d9ae-5ee8-4c21-8b4a-cb981534c0d1"
      },
      "execution_count": 46,
      "outputs": [
        {
          "output_type": "execute_result",
          "data": {
            "text/plain": [
              "count    1000.000000\n",
              "mean      178.340000\n",
              "std        11.171804\n",
              "min       160.000000\n",
              "25%       168.000000\n",
              "50%       180.000000\n",
              "75%       188.000000\n",
              "max       196.000000\n",
              "Name: songID, dtype: float64"
            ]
          },
          "metadata": {},
          "execution_count": 46
        }
      ]
    },
    {
      "cell_type": "code",
      "source": [
        "sample_user = user_preferences.where(user_preferences['userID'] == user_preferences['userID'].sample(1).iloc[0]).dropna() # a sample user"
      ],
      "metadata": {
        "id": "byUogCqvhelx"
      },
      "execution_count": 48,
      "outputs": []
    },
    {
      "cell_type": "code",
      "source": [
        "sample_user.groupby('artist').count().mean(axis=1).sort_values(ascending=False).head(10) # top 10 artists"
      ],
      "metadata": {
        "colab": {
          "base_uri": "https://localhost:8080/"
        },
        "id": "q6o_eR6jf8cq",
        "outputId": "d906572f-0f4b-4a1b-9b65-2ec8cb8a8980"
      },
      "execution_count": 49,
      "outputs": [
        {
          "output_type": "execute_result",
          "data": {
            "text/plain": [
              "artist\n",
              "Z-Ro               6.0\n",
              "Queen Latifah      5.0\n",
              "Marillion          4.0\n",
              "Xzibit             3.0\n",
              "Hank Snow          3.0\n",
              "Rush               3.0\n",
              "Jennifer Lopez     3.0\n",
              "Robbie Williams    3.0\n",
              "Keith Green        3.0\n",
              "Kanye West         3.0\n",
              "dtype: float64"
            ]
          },
          "metadata": {},
          "execution_count": 49
        }
      ]
    },
    {
      "cell_type": "markdown",
      "source": [
        "Given a sample user, it seems that identifying their 'favorite' artist would be a tough choice to make. The majority of artists within this sample user's preferences only make one or two appearances, and any artist with more than 3 appearances is very rare.\n",
        "\n",
        "My theory is that given that 'artist' name was not used as input to the cosin similarity algorithm, it could be ignoring the artist's identities when making recommendations, and user preferences do not seem to skew to any particular artist."
      ],
      "metadata": {
        "id": "gFpoeCbAqzEZ"
      }
    },
    {
      "cell_type": "code",
      "source": [
        "# plotting the distribution of artist count for the sample user\n",
        "sample_user.groupby('artist').count().mean(axis=1).hist(bins=10)"
      ],
      "metadata": {
        "id": "lS3pw5ALkal-",
        "colab": {
          "base_uri": "https://localhost:8080/",
          "height": 448
        },
        "outputId": "6e79326a-cd89-4efb-b56d-9f713c618f61"
      },
      "execution_count": 51,
      "outputs": [
        {
          "output_type": "execute_result",
          "data": {
            "text/plain": [
              "<Axes: >"
            ]
          },
          "metadata": {},
          "execution_count": 51
        },
        {
          "output_type": "display_data",
          "data": {
            "text/plain": [
              "<Figure size 640x480 with 1 Axes>"
            ],
            "image/png": "[encoded data removed]"
          },
          "metadata": {}
        }
      ]
    },
    {
      "cell_type": "markdown",
      "source": [
        "By visualizing the same distribution - this time using the entire user preferences dataset - we can see that most artists make an appearance within a user's library 1-3 times, with a small right tail skewing the distribution towards 4-8 appearances.\n",
        "\n",
        "Perhaps including the artist's name or the album name into the document-term matrix before generating the synthetic user preferences would allow for a more concentrated selection of choices that might mimic how individual user's tend to favor entire albums or playlists centered around a particular artist."
      ],
      "metadata": {
        "id": "9C7jcw6_rmiU"
      }
    },
    {
      "cell_type": "code",
      "source": [
        "# plotting similar distribution using the entire dataset\n",
        "(user_preferences.groupby('artist').count() / preference_size_distribution['mean']).mean(axis=1).hist(bins=10)"
      ],
      "metadata": {
        "colab": {
          "base_uri": "https://localhost:8080/",
          "height": 453
        },
        "id": "JGsG1-7pm1Vk",
        "outputId": "4f4974d9-a20f-4474-8980-ec343ebdf884"
      },
      "execution_count": 52,
      "outputs": [
        {
          "output_type": "execute_result",
          "data": {
            "text/plain": [
              "<Axes: >"
            ]
          },
          "metadata": {},
          "execution_count": 52
        },
        {
          "output_type": "display_data",
          "data": {
            "text/plain": [
              "<Figure size 640x480 with 1 Axes>"
            ],
            "image/png": "[encoded data removed]"
          },
          "metadata": {}
        }
      ]
    },
    {
      "cell_type": "code",
      "source": [],
      "metadata": {
        "id": "i8lt14KmoNhJ"
      },
      "execution_count": 52,
      "outputs": []
    }
  ]
}