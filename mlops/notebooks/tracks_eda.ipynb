{
  "nbformat": 4,
  "nbformat_minor": 0,
  "metadata": {
    "colab": {
      "provenance": [],
      "authorship_tag": "ABX9TyMuSAYhs5jsun6wbulp1YHQ",
      "include_colab_link": true
    },
    "kernelspec": {
      "name": "python3",
      "display_name": "Python 3"
    },
    "language_info": {
      "name": "python"
    }
  },
  "cells": [
    {
      "cell_type": "markdown",
      "metadata": {
        "id": "view-in-github",
        "colab_type": "text"
      },
      "source": [
        "<a href=\"https://colab.research.google.com/github/Bryan-Az/Neurobytes/blob/notebooks/mlops/notebooks/tracks_eda.ipynb\" target=\"_parent\"><img src=\"https://colab.research.google.com/assets/colab-badge.svg\" alt=\"Open In Colab\"/></a>"
      ]
    },
    {
      "cell_type": "markdown",
      "source": [
        "# Exploratory Data Analysis of Track Related Data"
      ],
      "metadata": {
        "id": "BY66pxmrriMs"
      }
    },
    {
      "cell_type": "markdown",
      "source": [
        "## Authentication and Data Loading"
      ],
      "metadata": {
        "id": "Nc6yWqW8rpPT"
      }
    },
    {
      "cell_type": "code",
      "source": [
        "from pydrive.auth import GoogleAuth\n",
        "from pydrive.drive import GoogleDrive\n",
        "from google.colab import auth\n",
        "from oauth2client.client import GoogleCredentials\n",
        "import pandas as pd"
      ],
      "metadata": {
        "id": "ScHuOtT9rJco",
        "outputId": "bcc6ebf8-a3ea-4b30-e7d0-4a79e1ce96e3",
        "colab": {
          "base_uri": "https://localhost:8080/"
        }
      },
      "execution_count": 1,
      "outputs": [
        {
          "output_type": "stream",
          "name": "stderr",
          "text": [
            "WARNING:root:pydrive is deprecated and no longer maintained. We recommend that you migrate your projects to pydrive2, the maintained fork of pydrive\n"
          ]
        }
      ]
    },
    {
      "cell_type": "code",
      "source": [
        "auth.authenticate_user()\n",
        "gauth = GoogleAuth()\n",
        "gauth.credentials = GoogleCredentials.get_application_default()\n",
        "drive = GoogleDrive(gauth)"
      ],
      "metadata": {
        "id": "7fGcnanprW3D"
      },
      "execution_count": 2,
      "outputs": []
    },
    {
      "cell_type": "code",
      "source": [
        "million_song_glink = 'https://drive.google.com/file/d/1EL4vYhO4A0Cgm8akBgAfDrWOGvtF6Xvo/view?usp=sharing'\n",
        "million_song_name = 'million_songs.zip'"
      ],
      "metadata": {
        "id": "yvc3jk8xpqIX"
      },
      "execution_count": 3,
      "outputs": []
    },
    {
      "cell_type": "code",
      "source": [
        "user_preferences_glink = 'https://drive.google.com/file/d/1543swVIvYq6iXnDh2VEIobJVsKmwbFB0/view?usp=drive_link'\n",
        "user_preferences_name = 'user_preferences.csv'"
      ],
      "metadata": {
        "id": "Dv7lHe9tgipI"
      },
      "execution_count": 32,
      "outputs": []
    },
    {
      "cell_type": "code",
      "source": [
        "def get_link_content(link, name):\n",
        "  file_id = link.split('/')[-2]\n",
        "  downloaded = drive.CreateFile({'id': file_id})\n",
        "  downloaded.GetContentFile(name)"
      ],
      "metadata": {
        "id": "B2fe_0vosqAA"
      },
      "execution_count": 33,
      "outputs": []
    },
    {
      "cell_type": "code",
      "source": [
        "get_link_content(million_song_glink, million_song_name)"
      ],
      "metadata": {
        "id": "e977WXSKstXj"
      },
      "execution_count": 34,
      "outputs": []
    },
    {
      "cell_type": "code",
      "source": [
        "get_link_content(user_preferences_glink, user_preferences_name)"
      ],
      "metadata": {
        "id": "TATR8qyyhD8F"
      },
      "execution_count": 35,
      "outputs": []
    },
    {
      "cell_type": "code",
      "source": [
        "million_songs = pd.read_csv(million_song_name)\n",
        "user_preferences = pd.read_csv(user_preferences_name)"
      ],
      "metadata": {
        "id": "gu_LQ6Zvs1ZX"
      },
      "execution_count": 40,
      "outputs": []
    },
    {
      "cell_type": "code",
      "source": [
        "million_songs.head()"
      ],
      "metadata": {
        "colab": {
          "base_uri": "https://localhost:8080/",
          "height": 206
        },
        "id": "IFROmv5Ts7ua",
        "outputId": "80e183d2-aa98-42ce-9bd7-f5bdf9f151d9"
      },
      "execution_count": 41,
      "outputs": [
        {
          "output_type": "execute_result",
          "data": {
            "text/plain": [
              "  artist                   song                                        link  \\\n",
              "0   ABBA  Ahe's My Kind Of Girl  /a/abba/ahes+my+kind+of+girl_20598417.html   \n",
              "1   ABBA       Andante, Andante       /a/abba/andante+andante_20002708.html   \n",
              "2   ABBA         As Good As New        /a/abba/as+good+as+new_20003033.html   \n",
              "3   ABBA                   Bang                  /a/abba/bang_20598415.html   \n",
              "4   ABBA       Bang-A-Boomerang      /a/abba/bang+a+boomerang_20002668.html   \n",
              "\n",
              "                                                text  \n",
              "0  Look at her face, it's a wonderful face  \\r\\nA...  \n",
              "1  Take it easy with me, please  \\r\\nTouch me gen...  \n",
              "2  I'll never know why I had to go  \\r\\nWhy I had...  \n",
              "3  Making somebody happy is a question of give an...  \n",
              "4  Making somebody happy is a question of give an...  "
            ],
            "text/html": [
              "\n",
              "  <div id=\"df-2bb550ed-7a31-452d-9c15-7a0a3f30e29b\" class=\"colab-df-container\">\n",
              "    <div>\n",
              "<style scoped>\n",
              "    .dataframe tbody tr th:only-of-type {\n",
              "        vertical-align: middle;\n",
              "    }\n",
              "\n",
              "    .dataframe tbody tr th {\n",
              "        vertical-align: top;\n",
              "    }\n",
              "\n",
              "    .dataframe thead th {\n",
              "        text-align: right;\n",
              "    }\n",
              "</style>\n",
              "<table border=\"1\" class=\"dataframe\">\n",
              "  <thead>\n",
              "    <tr style=\"text-align: right;\">\n",
              "      <th></th>\n",
              "      <th>artist</th>\n",
              "      <th>song</th>\n",
              "      <th>link</th>\n",
              "      <th>text</th>\n",
              "    </tr>\n",
              "  </thead>\n",
              "  <tbody>\n",
              "    <tr>\n",
              "      <th>0</th>\n",
              "      <td>ABBA</td>\n",
              "      <td>Ahe's My Kind Of Girl</td>\n",
              "      <td>/a/abba/ahes+my+kind+of+girl_20598417.html</td>\n",
              "      <td>Look at her face, it's a wonderful face  \\r\\nA...</td>\n",
              "    </tr>\n",
              "    <tr>\n",
              "      <th>1</th>\n",
              "      <td>ABBA</td>\n",
              "      <td>Andante, Andante</td>\n",
              "      <td>/a/abba/andante+andante_20002708.html</td>\n",
              "      <td>Take it easy with me, please  \\r\\nTouch me gen...</td>\n",
              "    </tr>\n",
              "    <tr>\n",
              "      <th>2</th>\n",
              "      <td>ABBA</td>\n",
              "      <td>As Good As New</td>\n",
              "      <td>/a/abba/as+good+as+new_20003033.html</td>\n",
              "      <td>I'll never know why I had to go  \\r\\nWhy I had...</td>\n",
              "    </tr>\n",
              "    <tr>\n",
              "      <th>3</th>\n",
              "      <td>ABBA</td>\n",
              "      <td>Bang</td>\n",
              "      <td>/a/abba/bang_20598415.html</td>\n",
              "      <td>Making somebody happy is a question of give an...</td>\n",
              "    </tr>\n",
              "    <tr>\n",
              "      <th>4</th>\n",
              "      <td>ABBA</td>\n",
              "      <td>Bang-A-Boomerang</td>\n",
              "      <td>/a/abba/bang+a+boomerang_20002668.html</td>\n",
              "      <td>Making somebody happy is a question of give an...</td>\n",
              "    </tr>\n",
              "  </tbody>\n",
              "</table>\n",
              "</div>\n",
              "    <div class=\"colab-df-buttons\">\n",
              "\n",
              "  <div class=\"colab-df-container\">\n",
              "    <button class=\"colab-df-convert\" onclick=\"convertToInteractive('df-2bb550ed-7a31-452d-9c15-7a0a3f30e29b')\"\n",
              "            title=\"Convert this dataframe to an interactive table.\"\n",
              "            style=\"display:none;\">\n",
              "\n",
              "  <svg xmlns=\"http://www.w3.org/2000/svg\" height=\"24px\" viewBox=\"0 -960 960 960\">\n",
              "    <path d=\"M120-120v-720h720v720H120Zm60-500h600v-160H180v160Zm220 220h160v-160H400v160Zm0 220h160v-160H400v160ZM180-400h160v-160H180v160Zm440 0h160v-160H620v160ZM180-180h160v-160H180v160Zm440 0h160v-160H620v160Z\"/>\n",
              "  </svg>\n",
              "    </button>\n",
              "\n",
              "  <style>\n",
              "    .colab-df-container {\n",
              "      display:flex;\n",
              "      gap: 12px;\n",
              "    }\n",
              "\n",
              "    .colab-df-convert {\n",
              "      background-color: #E8F0FE;\n",
              "      border: none;\n",
              "      border-radius: 50%;\n",
              "      cursor: pointer;\n",
              "      display: none;\n",
              "      fill: #1967D2;\n",
              "      height: 32px;\n",
              "      padding: 0 0 0 0;\n",
              "      width: 32px;\n",
              "    }\n",
              "\n",
              "    .colab-df-convert:hover {\n",
              "      background-color: #E2EBFA;\n",
              "      box-shadow: 0px 1px 2px rgba(60, 64, 67, 0.3), 0px 1px 3px 1px rgba(60, 64, 67, 0.15);\n",
              "      fill: #174EA6;\n",
              "    }\n",
              "\n",
              "    .colab-df-buttons div {\n",
              "      margin-bottom: 4px;\n",
              "    }\n",
              "\n",
              "    [theme=dark] .colab-df-convert {\n",
              "      background-color: #3B4455;\n",
              "      fill: #D2E3FC;\n",
              "    }\n",
              "\n",
              "    [theme=dark] .colab-df-convert:hover {\n",
              "      background-color: #434B5C;\n",
              "      box-shadow: 0px 1px 3px 1px rgba(0, 0, 0, 0.15);\n",
              "      filter: drop-shadow(0px 1px 2px rgba(0, 0, 0, 0.3));\n",
              "      fill: #FFFFFF;\n",
              "    }\n",
              "  </style>\n",
              "\n",
              "    <script>\n",
              "      const buttonEl =\n",
              "        document.querySelector('#df-2bb550ed-7a31-452d-9c15-7a0a3f30e29b button.colab-df-convert');\n",
              "      buttonEl.style.display =\n",
              "        google.colab.kernel.accessAllowed ? 'block' : 'none';\n",
              "\n",
              "      async function convertToInteractive(key) {\n",
              "        const element = document.querySelector('#df-2bb550ed-7a31-452d-9c15-7a0a3f30e29b');\n",
              "        const dataTable =\n",
              "          await google.colab.kernel.invokeFunction('convertToInteractive',\n",
              "                                                    [key], {});\n",
              "        if (!dataTable) return;\n",
              "\n",
              "        const docLinkHtml = 'Like what you see? Visit the ' +\n",
              "          '<a target=\"_blank\" href=https://colab.research.google.com/notebooks/data_table.ipynb>data table notebook</a>'\n",
              "          + ' to learn more about interactive tables.';\n",
              "        element.innerHTML = '';\n",
              "        dataTable['output_type'] = 'display_data';\n",
              "        await google.colab.output.renderOutput(dataTable, element);\n",
              "        const docLink = document.createElement('div');\n",
              "        docLink.innerHTML = docLinkHtml;\n",
              "        element.appendChild(docLink);\n",
              "      }\n",
              "    </script>\n",
              "  </div>\n",
              "\n",
              "\n",
              "<div id=\"df-d29c2adf-ba17-480b-9183-39c538e283b8\">\n",
              "  <button class=\"colab-df-quickchart\" onclick=\"quickchart('df-d29c2adf-ba17-480b-9183-39c538e283b8')\"\n",
              "            title=\"Suggest charts\"\n",
              "            style=\"display:none;\">\n",
              "\n",
              "<svg xmlns=\"http://www.w3.org/2000/svg\" height=\"24px\"viewBox=\"0 0 24 24\"\n",
              "     width=\"24px\">\n",
              "    <g>\n",
              "        <path d=\"M19 3H5c-1.1 0-2 .9-2 2v14c0 1.1.9 2 2 2h14c1.1 0 2-.9 2-2V5c0-1.1-.9-2-2-2zM9 17H7v-7h2v7zm4 0h-2V7h2v10zm4 0h-2v-4h2v4z\"/>\n",
              "    </g>\n",
              "</svg>\n",
              "  </button>\n",
              "\n",
              "<style>\n",
              "  .colab-df-quickchart {\n",
              "      --bg-color: #E8F0FE;\n",
              "      --fill-color: #1967D2;\n",
              "      --hover-bg-color: #E2EBFA;\n",
              "      --hover-fill-color: #174EA6;\n",
              "      --disabled-fill-color: #AAA;\n",
              "      --disabled-bg-color: #DDD;\n",
              "  }\n",
              "\n",
              "  [theme=dark] .colab-df-quickchart {\n",
              "      --bg-color: #3B4455;\n",
              "      --fill-color: #D2E3FC;\n",
              "      --hover-bg-color: #434B5C;\n",
              "      --hover-fill-color: #FFFFFF;\n",
              "      --disabled-bg-color: #3B4455;\n",
              "      --disabled-fill-color: #666;\n",
              "  }\n",
              "\n",
              "  .colab-df-quickchart {\n",
              "    background-color: var(--bg-color);\n",
              "    border: none;\n",
              "    border-radius: 50%;\n",
              "    cursor: pointer;\n",
              "    display: none;\n",
              "    fill: var(--fill-color);\n",
              "    height: 32px;\n",
              "    padding: 0;\n",
              "    width: 32px;\n",
              "  }\n",
              "\n",
              "  .colab-df-quickchart:hover {\n",
              "    background-color: var(--hover-bg-color);\n",
              "    box-shadow: 0 1px 2px rgba(60, 64, 67, 0.3), 0 1px 3px 1px rgba(60, 64, 67, 0.15);\n",
              "    fill: var(--button-hover-fill-color);\n",
              "  }\n",
              "\n",
              "  .colab-df-quickchart-complete:disabled,\n",
              "  .colab-df-quickchart-complete:disabled:hover {\n",
              "    background-color: var(--disabled-bg-color);\n",
              "    fill: var(--disabled-fill-color);\n",
              "    box-shadow: none;\n",
              "  }\n",
              "\n",
              "  .colab-df-spinner {\n",
              "    border: 2px solid var(--fill-color);\n",
              "    border-color: transparent;\n",
              "    border-bottom-color: var(--fill-color);\n",
              "    animation:\n",
              "      spin 1s steps(1) infinite;\n",
              "  }\n",
              "\n",
              "  @keyframes spin {\n",
              "    0% {\n",
              "      border-color: transparent;\n",
              "      border-bottom-color: var(--fill-color);\n",
              "      border-left-color: var(--fill-color);\n",
              "    }\n",
              "    20% {\n",
              "      border-color: transparent;\n",
              "      border-left-color: var(--fill-color);\n",
              "      border-top-color: var(--fill-color);\n",
              "    }\n",
              "    30% {\n",
              "      border-color: transparent;\n",
              "      border-left-color: var(--fill-color);\n",
              "      border-top-color: var(--fill-color);\n",
              "      border-right-color: var(--fill-color);\n",
              "    }\n",
              "    40% {\n",
              "      border-color: transparent;\n",
              "      border-right-color: var(--fill-color);\n",
              "      border-top-color: var(--fill-color);\n",
              "    }\n",
              "    60% {\n",
              "      border-color: transparent;\n",
              "      border-right-color: var(--fill-color);\n",
              "    }\n",
              "    80% {\n",
              "      border-color: transparent;\n",
              "      border-right-color: var(--fill-color);\n",
              "      border-bottom-color: var(--fill-color);\n",
              "    }\n",
              "    90% {\n",
              "      border-color: transparent;\n",
              "      border-bottom-color: var(--fill-color);\n",
              "    }\n",
              "  }\n",
              "</style>\n",
              "\n",
              "  <script>\n",
              "    async function quickchart(key) {\n",
              "      const quickchartButtonEl =\n",
              "        document.querySelector('#' + key + ' button');\n",
              "      quickchartButtonEl.disabled = true;  // To prevent multiple clicks.\n",
              "      quickchartButtonEl.classList.add('colab-df-spinner');\n",
              "      try {\n",
              "        const charts = await google.colab.kernel.invokeFunction(\n",
              "            'suggestCharts', [key], {});\n",
              "      } catch (error) {\n",
              "        console.error('Error during call to suggestCharts:', error);\n",
              "      }\n",
              "      quickchartButtonEl.classList.remove('colab-df-spinner');\n",
              "      quickchartButtonEl.classList.add('colab-df-quickchart-complete');\n",
              "    }\n",
              "    (() => {\n",
              "      let quickchartButtonEl =\n",
              "        document.querySelector('#df-d29c2adf-ba17-480b-9183-39c538e283b8 button');\n",
              "      quickchartButtonEl.style.display =\n",
              "        google.colab.kernel.accessAllowed ? 'block' : 'none';\n",
              "    })();\n",
              "  </script>\n",
              "</div>\n",
              "\n",
              "    </div>\n",
              "  </div>\n"
            ],
            "application/vnd.google.colaboratory.intrinsic+json": {
              "type": "dataframe",
              "variable_name": "million_songs",
              "summary": "{\n  \"name\": \"million_songs\",\n  \"rows\": 57650,\n  \"fields\": [\n    {\n      \"column\": \"artist\",\n      \"properties\": {\n        \"dtype\": \"category\",\n        \"num_unique_values\": 643,\n        \"samples\": [\n          \"Ziggy Marley\",\n          \"O.A.R.\",\n          \"Styx\"\n        ],\n        \"semantic_type\": \"\",\n        \"description\": \"\"\n      }\n    },\n    {\n      \"column\": \"song\",\n      \"properties\": {\n        \"dtype\": \"string\",\n        \"num_unique_values\": 44824,\n        \"samples\": [\n          \"Tear Me Down\",\n          \"Lakky Lady\",\n          \"They All Went To Mexico\"\n        ],\n        \"semantic_type\": \"\",\n        \"description\": \"\"\n      }\n    },\n    {\n      \"column\": \"link\",\n      \"properties\": {\n        \"dtype\": \"string\",\n        \"num_unique_values\": 57650,\n        \"samples\": [\n          \"/w/wishbone+ash/right+or+wrong_20147150.html\",\n          \"/a/aerosmith/this+little+light+of+mine_20644484.html\",\n          \"/f/fall+out+boy/dance+dance_10113666.html\"\n        ],\n        \"semantic_type\": \"\",\n        \"description\": \"\"\n      }\n    },\n    {\n      \"column\": \"text\",\n      \"properties\": {\n        \"dtype\": \"string\",\n        \"num_unique_values\": 57494,\n        \"samples\": [\n          \"When the grey skies turn to blue  \\r\\nAnd the dark clouds blow away  \\r\\nIn the morning of a new life  \\r\\nWhen the sun comes shining through  \\r\\nWhen the grey skies turn to blue  \\r\\nIn the morning of a new life  \\r\\nWhen the sun comes shining through  \\r\\nWhen the grey skies turn to blue  \\r\\nMeet me on a bright and windy day  \\r\\nWhen the breeze has blown  \\r\\nThe gray skies far away  \\r\\nHigh upon a hillside  \\r\\nWhen the sun comes shining through  \\r\\nAnd the grey skies turn to blue  \\r\\nWhen the grey skies turn to blue  \\r\\nWhen the grey skies turn to blue  \\r\\n\\r\\n\",\n          \"I met a girl a wonderful girl  \\r\\nWho's really got a lot to recommend her for a girl  \\r\\nFabulous creature without any doubt  \\r\\nHey what am I getting so excited about  \\r\\nShe's just a girl an everyday girl  \\r\\nAnd yet I guess she's really rather special for a girl  \\r\\nFor once you've seen her the others are not  \\r\\nHey what am I getting so excited about  \\r\\nBut so what what has she got others have not  \\r\\nTwo eyes two lips a nose all girls have some of those  \\r\\nBut when she looks up at me what do I see  \\r\\nThe most enchanting face my pulse begins to race  \\r\\nHey I met a girl a marvelous girl  \\r\\nShe rarer than uranium and fairer than a pearl  \\r\\nFound me a treasure and I want to shout  \\r\\nHey what am I getting so excited about  \\r\\nBut so what what has she got others have not  \\r\\nTwo eyes two lips a nose all girls have some of those  \\r\\nBut when she looks up at me what do I see  \\r\\nThe most enchanting face my pulse begins to race  \\r\\n(I got a girl a marvelous girl)  \\r\\n(She rarer than uranium and fairer than a pearl)  \\r\\nFound me a treasure and I want to shout  \\r\\nThis is what am I getting so excited about  \\r\\n(He met a girl) and I fell in love today\\r\\n\\r\\n\",\n          \"She's over by the corner  \\r\\nGot her hands by her sides  \\r\\nThey hit her harder harder harder  \\r\\nTill they thought she might die  \\r\\n  \\r\\nWell I got a foggy notion,  \\r\\nDo it again  \\r\\nOver by the corner,  \\r\\nDo it again  \\r\\nI got my calamine lotion baby,  \\r\\nDo it again  \\r\\nI got a foggy notion,  \\r\\nDo it again  \\r\\n  \\r\\nShe made me do something  \\r\\nThat I never did before  \\r\\nI rushed right down  \\r\\nTo a flower store  \\r\\nI bought her a bundle  \\r\\nA beautiful batch  \\r\\nDon't you know something,  \\r\\nShe sent 'em right back  \\r\\n  \\r\\nSally Mae, Sally Mae,  \\r\\nSally Mae, Sally Mae  \\r\\nSally Mae, Sally Mae,  \\r\\nSally Mae, Sally Mae\\r\\n\\r\\n\"\n        ],\n        \"semantic_type\": \"\",\n        \"description\": \"\"\n      }\n    }\n  ]\n}"
            }
          },
          "metadata": {},
          "execution_count": 41
        }
      ]
    },
    {
      "cell_type": "markdown",
      "source": [
        "# Connecting User Preferences to the Million Song Dataset\n",
        "The user preferences dataset has a songID index which matches the index in the million song dataset."
      ],
      "metadata": {
        "id": "4NyKHfJwvZdB"
      }
    },
    {
      "cell_type": "code",
      "source": [
        "user_preferences = user_preferences.drop(['level_0'], axis=1)"
      ],
      "metadata": {
        "id": "rJ26n9g2hKIx"
      },
      "execution_count": 43,
      "outputs": []
    },
    {
      "cell_type": "code",
      "source": [
        "user_preferences.head()"
      ],
      "metadata": {
        "colab": {
          "base_uri": "https://localhost:8080/",
          "height": 206
        },
        "id": "sQ4TsOCnvEua",
        "outputId": "3ecfa6ca-93be-4e79-bcaa-bfc115cc5368"
      },
      "execution_count": 52,
      "outputs": [
        {
          "output_type": "execute_result",
          "data": {
            "text/plain": [
              "   songID         artist                song  \\\n",
              "0   41424  Lenny Kravitz         Heaven Help   \n",
              "1   50907        Rihanna     Willing To Wait   \n",
              "2    5409   Eric Clapton          One Chance   \n",
              "3   50902        Rihanna           Right Now   \n",
              "4    1908         Bosson  Over The Mountains   \n",
              "\n",
              "                                         link  \\\n",
              "0  /l/lenny+kravitz/heaven+help_20082584.html   \n",
              "1    /r/rihanna/willing+to+wait_20409353.html   \n",
              "2    /e/eric+clapton/one+chance_20051429.html   \n",
              "3          /r/rihanna/right+now_21050296.html   \n",
              "4  /b/bosson/over+the+mountains_20023045.html   \n",
              "\n",
              "                                                text  userID  \n",
              "0  There comes a time  \\r\\nTo be free of the hear...       0  \n",
              "1  Baby slow down just hear me out  \\r\\nThere's s...       0  \n",
              "2  Without wishing to cause you any pain  \\r\\nI g...       0  \n",
              "3  Tomorrow way too far away  \\r\\nAnd we can't ge...       0  \n",
              "4  I've made up my mind I've packed my bags  \\r\\n...       0  "
            ],
            "text/html": [
              "\n",
              "  <div id=\"df-e8c1a3fc-7f25-42cd-92d5-9a062af0e026\" class=\"colab-df-container\">\n",
              "    <div>\n",
              "<style scoped>\n",
              "    .dataframe tbody tr th:only-of-type {\n",
              "        vertical-align: middle;\n",
              "    }\n",
              "\n",
              "    .dataframe tbody tr th {\n",
              "        vertical-align: top;\n",
              "    }\n",
              "\n",
              "    .dataframe thead th {\n",
              "        text-align: right;\n",
              "    }\n",
              "</style>\n",
              "<table border=\"1\" class=\"dataframe\">\n",
              "  <thead>\n",
              "    <tr style=\"text-align: right;\">\n",
              "      <th></th>\n",
              "      <th>songID</th>\n",
              "      <th>artist</th>\n",
              "      <th>song</th>\n",
              "      <th>link</th>\n",
              "      <th>text</th>\n",
              "      <th>userID</th>\n",
              "    </tr>\n",
              "  </thead>\n",
              "  <tbody>\n",
              "    <tr>\n",
              "      <th>0</th>\n",
              "      <td>41424</td>\n",
              "      <td>Lenny Kravitz</td>\n",
              "      <td>Heaven Help</td>\n",
              "      <td>/l/lenny+kravitz/heaven+help_20082584.html</td>\n",
              "      <td>There comes a time  \\r\\nTo be free of the hear...</td>\n",
              "      <td>0</td>\n",
              "    </tr>\n",
              "    <tr>\n",
              "      <th>1</th>\n",
              "      <td>50907</td>\n",
              "      <td>Rihanna</td>\n",
              "      <td>Willing To Wait</td>\n",
              "      <td>/r/rihanna/willing+to+wait_20409353.html</td>\n",
              "      <td>Baby slow down just hear me out  \\r\\nThere's s...</td>\n",
              "      <td>0</td>\n",
              "    </tr>\n",
              "    <tr>\n",
              "      <th>2</th>\n",
              "      <td>5409</td>\n",
              "      <td>Eric Clapton</td>\n",
              "      <td>One Chance</td>\n",
              "      <td>/e/eric+clapton/one+chance_20051429.html</td>\n",
              "      <td>Without wishing to cause you any pain  \\r\\nI g...</td>\n",
              "      <td>0</td>\n",
              "    </tr>\n",
              "    <tr>\n",
              "      <th>3</th>\n",
              "      <td>50902</td>\n",
              "      <td>Rihanna</td>\n",
              "      <td>Right Now</td>\n",
              "      <td>/r/rihanna/right+now_21050296.html</td>\n",
              "      <td>Tomorrow way too far away  \\r\\nAnd we can't ge...</td>\n",
              "      <td>0</td>\n",
              "    </tr>\n",
              "    <tr>\n",
              "      <th>4</th>\n",
              "      <td>1908</td>\n",
              "      <td>Bosson</td>\n",
              "      <td>Over The Mountains</td>\n",
              "      <td>/b/bosson/over+the+mountains_20023045.html</td>\n",
              "      <td>I've made up my mind I've packed my bags  \\r\\n...</td>\n",
              "      <td>0</td>\n",
              "    </tr>\n",
              "  </tbody>\n",
              "</table>\n",
              "</div>\n",
              "    <div class=\"colab-df-buttons\">\n",
              "\n",
              "  <div class=\"colab-df-container\">\n",
              "    <button class=\"colab-df-convert\" onclick=\"convertToInteractive('df-e8c1a3fc-7f25-42cd-92d5-9a062af0e026')\"\n",
              "            title=\"Convert this dataframe to an interactive table.\"\n",
              "            style=\"display:none;\">\n",
              "\n",
              "  <svg xmlns=\"http://www.w3.org/2000/svg\" height=\"24px\" viewBox=\"0 -960 960 960\">\n",
              "    <path d=\"M120-120v-720h720v720H120Zm60-500h600v-160H180v160Zm220 220h160v-160H400v160Zm0 220h160v-160H400v160ZM180-400h160v-160H180v160Zm440 0h160v-160H620v160ZM180-180h160v-160H180v160Zm440 0h160v-160H620v160Z\"/>\n",
              "  </svg>\n",
              "    </button>\n",
              "\n",
              "  <style>\n",
              "    .colab-df-container {\n",
              "      display:flex;\n",
              "      gap: 12px;\n",
              "    }\n",
              "\n",
              "    .colab-df-convert {\n",
              "      background-color: #E8F0FE;\n",
              "      border: none;\n",
              "      border-radius: 50%;\n",
              "      cursor: pointer;\n",
              "      display: none;\n",
              "      fill: #1967D2;\n",
              "      height: 32px;\n",
              "      padding: 0 0 0 0;\n",
              "      width: 32px;\n",
              "    }\n",
              "\n",
              "    .colab-df-convert:hover {\n",
              "      background-color: #E2EBFA;\n",
              "      box-shadow: 0px 1px 2px rgba(60, 64, 67, 0.3), 0px 1px 3px 1px rgba(60, 64, 67, 0.15);\n",
              "      fill: #174EA6;\n",
              "    }\n",
              "\n",
              "    .colab-df-buttons div {\n",
              "      margin-bottom: 4px;\n",
              "    }\n",
              "\n",
              "    [theme=dark] .colab-df-convert {\n",
              "      background-color: #3B4455;\n",
              "      fill: #D2E3FC;\n",
              "    }\n",
              "\n",
              "    [theme=dark] .colab-df-convert:hover {\n",
              "      background-color: #434B5C;\n",
              "      box-shadow: 0px 1px 3px 1px rgba(0, 0, 0, 0.15);\n",
              "      filter: drop-shadow(0px 1px 2px rgba(0, 0, 0, 0.3));\n",
              "      fill: #FFFFFF;\n",
              "    }\n",
              "  </style>\n",
              "\n",
              "    <script>\n",
              "      const buttonEl =\n",
              "        document.querySelector('#df-e8c1a3fc-7f25-42cd-92d5-9a062af0e026 button.colab-df-convert');\n",
              "      buttonEl.style.display =\n",
              "        google.colab.kernel.accessAllowed ? 'block' : 'none';\n",
              "\n",
              "      async function convertToInteractive(key) {\n",
              "        const element = document.querySelector('#df-e8c1a3fc-7f25-42cd-92d5-9a062af0e026');\n",
              "        const dataTable =\n",
              "          await google.colab.kernel.invokeFunction('convertToInteractive',\n",
              "                                                    [key], {});\n",
              "        if (!dataTable) return;\n",
              "\n",
              "        const docLinkHtml = 'Like what you see? Visit the ' +\n",
              "          '<a target=\"_blank\" href=https://colab.research.google.com/notebooks/data_table.ipynb>data table notebook</a>'\n",
              "          + ' to learn more about interactive tables.';\n",
              "        element.innerHTML = '';\n",
              "        dataTable['output_type'] = 'display_data';\n",
              "        await google.colab.output.renderOutput(dataTable, element);\n",
              "        const docLink = document.createElement('div');\n",
              "        docLink.innerHTML = docLinkHtml;\n",
              "        element.appendChild(docLink);\n",
              "      }\n",
              "    </script>\n",
              "  </div>\n",
              "\n",
              "\n",
              "<div id=\"df-c999a139-4938-46c3-a529-cf0c8119abc5\">\n",
              "  <button class=\"colab-df-quickchart\" onclick=\"quickchart('df-c999a139-4938-46c3-a529-cf0c8119abc5')\"\n",
              "            title=\"Suggest charts\"\n",
              "            style=\"display:none;\">\n",
              "\n",
              "<svg xmlns=\"http://www.w3.org/2000/svg\" height=\"24px\"viewBox=\"0 0 24 24\"\n",
              "     width=\"24px\">\n",
              "    <g>\n",
              "        <path d=\"M19 3H5c-1.1 0-2 .9-2 2v14c0 1.1.9 2 2 2h14c1.1 0 2-.9 2-2V5c0-1.1-.9-2-2-2zM9 17H7v-7h2v7zm4 0h-2V7h2v10zm4 0h-2v-4h2v4z\"/>\n",
              "    </g>\n",
              "</svg>\n",
              "  </button>\n",
              "\n",
              "<style>\n",
              "  .colab-df-quickchart {\n",
              "      --bg-color: #E8F0FE;\n",
              "      --fill-color: #1967D2;\n",
              "      --hover-bg-color: #E2EBFA;\n",
              "      --hover-fill-color: #174EA6;\n",
              "      --disabled-fill-color: #AAA;\n",
              "      --disabled-bg-color: #DDD;\n",
              "  }\n",
              "\n",
              "  [theme=dark] .colab-df-quickchart {\n",
              "      --bg-color: #3B4455;\n",
              "      --fill-color: #D2E3FC;\n",
              "      --hover-bg-color: #434B5C;\n",
              "      --hover-fill-color: #FFFFFF;\n",
              "      --disabled-bg-color: #3B4455;\n",
              "      --disabled-fill-color: #666;\n",
              "  }\n",
              "\n",
              "  .colab-df-quickchart {\n",
              "    background-color: var(--bg-color);\n",
              "    border: none;\n",
              "    border-radius: 50%;\n",
              "    cursor: pointer;\n",
              "    display: none;\n",
              "    fill: var(--fill-color);\n",
              "    height: 32px;\n",
              "    padding: 0;\n",
              "    width: 32px;\n",
              "  }\n",
              "\n",
              "  .colab-df-quickchart:hover {\n",
              "    background-color: var(--hover-bg-color);\n",
              "    box-shadow: 0 1px 2px rgba(60, 64, 67, 0.3), 0 1px 3px 1px rgba(60, 64, 67, 0.15);\n",
              "    fill: var(--button-hover-fill-color);\n",
              "  }\n",
              "\n",
              "  .colab-df-quickchart-complete:disabled,\n",
              "  .colab-df-quickchart-complete:disabled:hover {\n",
              "    background-color: var(--disabled-bg-color);\n",
              "    fill: var(--disabled-fill-color);\n",
              "    box-shadow: none;\n",
              "  }\n",
              "\n",
              "  .colab-df-spinner {\n",
              "    border: 2px solid var(--fill-color);\n",
              "    border-color: transparent;\n",
              "    border-bottom-color: var(--fill-color);\n",
              "    animation:\n",
              "      spin 1s steps(1) infinite;\n",
              "  }\n",
              "\n",
              "  @keyframes spin {\n",
              "    0% {\n",
              "      border-color: transparent;\n",
              "      border-bottom-color: var(--fill-color);\n",
              "      border-left-color: var(--fill-color);\n",
              "    }\n",
              "    20% {\n",
              "      border-color: transparent;\n",
              "      border-left-color: var(--fill-color);\n",
              "      border-top-color: var(--fill-color);\n",
              "    }\n",
              "    30% {\n",
              "      border-color: transparent;\n",
              "      border-left-color: var(--fill-color);\n",
              "      border-top-color: var(--fill-color);\n",
              "      border-right-color: var(--fill-color);\n",
              "    }\n",
              "    40% {\n",
              "      border-color: transparent;\n",
              "      border-right-color: var(--fill-color);\n",
              "      border-top-color: var(--fill-color);\n",
              "    }\n",
              "    60% {\n",
              "      border-color: transparent;\n",
              "      border-right-color: var(--fill-color);\n",
              "    }\n",
              "    80% {\n",
              "      border-color: transparent;\n",
              "      border-right-color: var(--fill-color);\n",
              "      border-bottom-color: var(--fill-color);\n",
              "    }\n",
              "    90% {\n",
              "      border-color: transparent;\n",
              "      border-bottom-color: var(--fill-color);\n",
              "    }\n",
              "  }\n",
              "</style>\n",
              "\n",
              "  <script>\n",
              "    async function quickchart(key) {\n",
              "      const quickchartButtonEl =\n",
              "        document.querySelector('#' + key + ' button');\n",
              "      quickchartButtonEl.disabled = true;  // To prevent multiple clicks.\n",
              "      quickchartButtonEl.classList.add('colab-df-spinner');\n",
              "      try {\n",
              "        const charts = await google.colab.kernel.invokeFunction(\n",
              "            'suggestCharts', [key], {});\n",
              "      } catch (error) {\n",
              "        console.error('Error during call to suggestCharts:', error);\n",
              "      }\n",
              "      quickchartButtonEl.classList.remove('colab-df-spinner');\n",
              "      quickchartButtonEl.classList.add('colab-df-quickchart-complete');\n",
              "    }\n",
              "    (() => {\n",
              "      let quickchartButtonEl =\n",
              "        document.querySelector('#df-c999a139-4938-46c3-a529-cf0c8119abc5 button');\n",
              "      quickchartButtonEl.style.display =\n",
              "        google.colab.kernel.accessAllowed ? 'block' : 'none';\n",
              "    })();\n",
              "  </script>\n",
              "</div>\n",
              "\n",
              "    </div>\n",
              "  </div>\n"
            ],
            "application/vnd.google.colaboratory.intrinsic+json": {
              "type": "dataframe",
              "variable_name": "user_preferences",
              "summary": "{\n  \"name\": \"user_preferences\",\n  \"rows\": 5568,\n  \"fields\": [\n    {\n      \"column\": \"songID\",\n      \"properties\": {\n        \"dtype\": \"number\",\n        \"std\": 16889,\n        \"min\": 8,\n        \"max\": 57616,\n        \"num_unique_values\": 2816,\n        \"samples\": [\n          44225,\n          19068,\n          25250\n        ],\n        \"semantic_type\": \"\",\n        \"description\": \"\"\n      }\n    },\n    {\n      \"column\": \"artist\",\n      \"properties\": {\n        \"dtype\": \"category\",\n        \"num_unique_values\": 552,\n        \"samples\": [\n          \"Youngbloodz\",\n          \"Clash\",\n          \"Def Leppard\"\n        ],\n        \"semantic_type\": \"\",\n        \"description\": \"\"\n      }\n    },\n    {\n      \"column\": \"song\",\n      \"properties\": {\n        \"dtype\": \"category\",\n        \"num_unique_values\": 2655,\n        \"samples\": [\n          \"Release Me\",\n          \"Try A Little Tenderness\",\n          \"Nowhere To Go, Nowhere To Be\"\n        ],\n        \"semantic_type\": \"\",\n        \"description\": \"\"\n      }\n    },\n    {\n      \"column\": \"link\",\n      \"properties\": {\n        \"dtype\": \"string\",\n        \"num_unique_values\": 2816,\n        \"samples\": [\n          \"/m/modern+talking/how+you+mend+a+broken+heart_20094605.html\",\n          \"/s/sublime/bad+fish_20133031.html\",\n          \"/b/billie+holiday/born+to+love_20017927.html\"\n        ],\n        \"semantic_type\": \"\",\n        \"description\": \"\"\n      }\n    },\n    {\n      \"column\": \"text\",\n      \"properties\": {\n        \"dtype\": \"string\",\n        \"num_unique_values\": 2814,\n        \"samples\": [\n          \"One more lonely night  \\r\\nJust one more lonely night  \\r\\nShe doesn't like sleeping alone  \\r\\n  \\r\\nYou may come home one morning  \\r\\nAnd find she's not sleeping alone  \\r\\nOh, then baby you'll see  \\r\\nOh yes, you should have stayed at home  \\r\\nBecause  \\r\\n  \\r\\nOne more lonely night  \\r\\nJust one more lonely night  \\r\\nShe doesn't like sleeping alone  \\r\\nJust one more lonely night  \\r\\nJust one more lonely night  \\r\\nOh, wouldn't you like to be the one  \\r\\nHolding her tight  \\r\\n  \\r\\nIf you want her, better get her now  \\r\\nOr she'll be running away somehow  \\r\\nOh, it's not for me to say  \\r\\nIf she'll be happy some other way  \\r\\nBecause  \\r\\n  \\r\\nOne more lonely night  \\r\\nJust one more lonely night  \\r\\nShe doesn't like sleeping alone  \\r\\nOh, One more lonely night  \\r\\nJust one more lonely night  \\r\\nOh, wouldn't you like to be the one  \\r\\nHolding her tight  \\r\\nDon't be a fool  \\r\\n  \\r\\nJust one more lonely night  \\r\\nOh, One lonely night  \\r\\nWouldn't you like to be the one  \\r\\nHolding her tight  \\r\\nDon't be a fool  \\r\\n  \\r\\nJust one more lonely night  \\r\\nJust one more lonely night  \\r\\nOh, wouldn't you like to be the one  \\r\\nHolding her tight\\r\\n\\r\\n\",\n          \"Tonight's the night I get in some shit [Yeah]  \\r\\nDeep cover on the incognito tip.  \\r\\nKillin' motherfuckers if I have to  \\r\\nPeelin' caps too cause you niggas know I'm comin' at you.  \\r\\nI guess that's part of the game  \\r\\nBut I feel for the nigger who thinks he just gonna come and chance  \\r\\nThings  \\r\\nWith the swiftness so get it right with the quickness  \\r\\nAnd let me handle my business yo.  \\r\\nI'm on a mission and my mission won't stop  \\r\\nUntil I get the nigger maxin' at the top.  \\r\\nI hope you get his ass before he drops.  \\r\\nKingpin kickin' back while his workers sling his rocks.  \\r\\nComing up like a fat rat.  \\r\\nBig money, big cars, big body guards on his back.  \\r\\nSo it's difficult to get him.  \\r\\nBut I got the hook up with somebody who knows how to get in contact  \\r\\nWith  \\r\\nHim.  \\r\\nHit him like this and like that,  \\r\\nLet 'em know that I'll make it for a big fat dope sack  \\r\\nWhat is this pen? so let's rush it.  \\r\\nIf you want to handle it tonight we'll discuss it  \\r\\nOn the nigga's time, in the nigga's place,  \\r\\nTake a strap just in case one of his boys recognize my face.  \\r\\nCause he's a sheisty motherfucker,  \\r\\nBut I gives a fuck, cause I'm going deep cover.  \\r\\nYeah, and you don't stop, cause it's 1-8-7 on an undercover cop  \\r\\nYeah, and you don't stop, cause it's 1-8-7 on an undercover cop  \\r\\nCreep with me as I crawl through the hood,  \\r\\nManiac, lunatic, call 'em Snoop Eastwood  \\r\\nKickin' dust as I bust fuck peace  \\r\\nAnd, the mothafuckin' drug police  \\r\\nYou already know I gives a fuck about a cop  \\r\\nSo why in the fuck would you think that it would stop  \\r\\nPlot, yeah, that's what we's about to do  \\r\\nTake your ass on a mission with the boys in blue  \\r\\nDre, (whatup, Snoop) yo I got the feelin'  \\r\\nTonight's the night like Betty Wright, and I'm chillin'  \\r\\nKillin', feelin', no remorse, yeah  \\r\\nSo lets go straight to the motherfuckin' source  \\r\\nAnd see what we can find  \\r\\nCrooked ass cops that be gettin niggaz a gang of times  \\r\\nAnd now they want to make a deal with me  \\r\\nScoop me up and put me on they team and chill with me  \\r\\nAnd make my pockets bigger  \\r\\nThey want to meet with me tonight at 7:00, so whassup nigger?  \\r\\nWhat you want to do? (What you want to do?)  \\r\\nI got the gauge, a uzi and the mothafuckin' 22  \\r\\nSo if you want to blast, nigga we can buck 'em  \\r\\nIf we stick 'em then we stuck 'em so fuck 'em!\\\"  \\r\\nYeah, and you don't stop, cause it's 1-8-7 on an undercover cop  \\r\\nYeah, and you don't stop, cause it's 1-8-7 on an undercover cop  \\r\\nSix fo' five was the time on the clock,  \\r\\nWhen me and my homey bailed in the parking lot.  \\r\\nThe scene looked strange and it felt like a set up  \\r\\nBetter not be, cause if it is, they're getting lit up.  \\r\\nOh here they come from the back and they laxed.  \\r\\nI'm checkin for the gats they strap, so what's up black?  \\r\\nChill, lets hit a deal, if it ain't up to what you feel then grab your  \\r\\nSteel.  \\r\\nRight, so, what you motherfuckers gonna come at me with?  \\r\\nHope you ain't wantin' none of my grip.  \\r\\nCause you can save that shit. Guess what they told me?  \\r\\n'We give you 20 G's if you snitch on your homey,  \\r\\nWe'll put you in a home, and make your life plush,  \\r\\nOh yeah, but you got to sell dope for us.\\\"  \\r\\nHmmm, let me think about it  \\r\\nTurned my back and grabbed my gat and guess what I told him before I  \\r\\nShot  \\r\\nIt:  \\r\\n'If you don't quit, yeah, if you don't stop, yeah, I'm lettin' my gat  \\r\\nPop'  \\r\\nCause it's 1-8-7 on an undercover cop  \\r\\nYeah, and you don't stop, cause it's 1-8-7 on an undercover cop  \\r\\nYeah, and you don't stop, cause it's 1-8-7 on an undercover cop\\r\\n\\r\\n\",\n          \"Well it's a cloudy morning  \\r\\nBut I got the sun in my life  \\r\\nI wanna feel what forever feels like  \\r\\nWith you by my side  \\r\\n  \\r\\nPeople trying to sell you freedom  \\r\\nBut they never been held by your love  \\r\\n  \\r\\n[Chorus]  \\r\\nEvery little thing, every little thing  \\r\\nYour love is all I see  \\r\\nEvery little thing, every little thing  \\r\\nYou make me feel complete  \\r\\nAll the little things, all the little things  \\r\\nCan wait until tomorrow,  \\r\\nEvery little thing, every little thing  \\r\\nYour love is all I need  \\r\\n  \\r\\nAnd I get lost in my head sometimes  \\r\\nAnd I go somewhere else instead  \\r\\nWhen all you wanna do is love me  \\r\\nYou can wait so patiently  \\r\\nPull me closer just by looking  \\r\\nAnd I'll fall in love all over again  \\r\\n  \\r\\n[Chorus]  \\r\\n  \\r\\nGive me a piece of your heart  \\r\\nGive me a piece of your heart  \\r\\nGive me a piece of your heart  \\r\\nI'll give you a piece of my heart  \\r\\n  \\r\\n[Chorus]  \\r\\n  \\r\\nEvery little thing you do is beautiful  \\r\\nOpen your heart and let the love come in  \\r\\nEvery little thing you do is beautiful  \\r\\nBeautiful, so beautiful  \\r\\nOpen your heart and let the love come in  \\r\\nIt sounds so sweet to me  \\r\\n  \\r\\nEvery little thing you do is beautiful  \\r\\nOpen your heart and let the love come in  \\r\\nEvery little thing you do is beautiful  \\r\\nBeautiful, beautiful  \\r\\nOpen your heart and let the love come in  \\r\\nOpen your heart and let your love come in  \\r\\nEvery little thing you do is beautiful  \\r\\nBeautiful, so beautiful  \\r\\nOpen your heart and let the love come in  \\r\\nOpen your heart and let your love come in  \\r\\nEvery little thing you do is beautiful  \\r\\nEvery little thing you do is beautiful\\r\\n\\r\\n\"\n        ],\n        \"semantic_type\": \"\",\n        \"description\": \"\"\n      }\n    },\n    {\n      \"column\": \"userID\",\n      \"properties\": {\n        \"dtype\": \"number\",\n        \"std\": 3,\n        \"min\": 0,\n        \"max\": 9,\n        \"num_unique_values\": 10,\n        \"samples\": [\n          8,\n          1,\n          5\n        ],\n        \"semantic_type\": \"\",\n        \"description\": \"\"\n      }\n    }\n  ]\n}"
            }
          },
          "metadata": {},
          "execution_count": 52
        }
      ]
    },
    {
      "cell_type": "code",
      "source": [
        "user_preferences.shape"
      ],
      "metadata": {
        "colab": {
          "base_uri": "https://localhost:8080/"
        },
        "id": "4hOldSUkvMld",
        "outputId": "7ed0c691-37a1-40e7-e6b1-c72aeaee9238"
      },
      "execution_count": 55,
      "outputs": [
        {
          "output_type": "execute_result",
          "data": {
            "text/plain": [
              "(5568, 6)"
            ]
          },
          "metadata": {},
          "execution_count": 55
        }
      ]
    },
    {
      "cell_type": "markdown",
      "source": [
        "# User Preferences\n",
        "\n",
        "We have user data for 10 synthetically generated users. It represents the user's preferences. It was created using by selection at random for each user the top n (random for each user, from 5-10) similar tracks to a randomly sampled song from a randomly sampled set of songs (songs_per_users is random for each user, between 50-100).\n",
        "\n",
        "For example, the amount of songs in a user's preference library is calculated by multiplying the top_n value by the songs_per_users value."
      ],
      "metadata": {
        "id": "5gKDsSGlswhv"
      }
    },
    {
      "cell_type": "markdown",
      "source": [
        "## Sample User Preferences"
      ],
      "metadata": {
        "id": "m9dxn7DPvsEH"
      }
    },
    {
      "cell_type": "code",
      "source": [
        "random_user = user_preferences.sample(n=1)['userID'].values[0]\n",
        "random_user_preferences = user_preferences[user_preferences['userID'] == random_user]"
      ],
      "metadata": {
        "id": "tmGMRqwbvu1U"
      },
      "execution_count": 62,
      "outputs": []
    },
    {
      "cell_type": "code",
      "source": [
        "random_user_preferences"
      ],
      "metadata": {
        "colab": {
          "base_uri": "https://localhost:8080/",
          "height": 424
        },
        "id": "AhepmD8_v8yI",
        "outputId": "67410d8c-dc8c-45be-8b24-962ccff5d4b5"
      },
      "execution_count": 63,
      "outputs": [
        {
          "output_type": "execute_result",
          "data": {
            "text/plain": [
              "      songID          artist                            song  \\\n",
              "3168   41621       Lil Wayne  Bring It Back Ft. Mannie Fresh   \n",
              "3169   41621       Lil Wayne  Bring It Back Ft. Mannie Fresh   \n",
              "3170   41665       Lil Wayne          I Got Some Money On Me   \n",
              "3171   41663       Lil Wayne     I Don't Like The Look Of It   \n",
              "3172   11542       Lil Wayne                       Carter Ii   \n",
              "...      ...             ...                             ...   \n",
              "3651   31877      Etta James                      Give It Up   \n",
              "3652   29428     Demi Lovato                        Get Back   \n",
              "3653   22362  Zac Brown Band                       Overnight   \n",
              "3654   19378       Tom Jones       I Wanna Get Back With You   \n",
              "3655   14594           Oasis                    Roll With It   \n",
              "\n",
              "                                                   link  \\\n",
              "3168  /l/lil+wayne/bring+it+back+ft+mannie+fresh_206...   \n",
              "3169  /l/lil+wayne/bring+it+back+ft+mannie+fresh_206...   \n",
              "3170  /l/lil+wayne/i+got+some+money+on+me_20982217.html   \n",
              "3171  /l/lil+wayne/i+dont+like+the+look+of+it_208927...   \n",
              "3172               /l/lil+wayne/carter+ii_20367823.html   \n",
              "...                                                 ...   \n",
              "3651             /e/etta+james/give+it+up_21063306.html   \n",
              "3652              /d/demi+lovato/get+back_20747552.html   \n",
              "3653          /z/zac+brown+band/overnight_21022038.html   \n",
              "3654  /t/tom+jones/i+wanna+get+back+with+you+feat+to...   \n",
              "3655                /o/oasis/roll+with+it_20102308.html   \n",
              "\n",
              "                                                   text  userID  \n",
              "3168  [Mannie Fresh]  \\r\\nLadies and gentlemen,  \\r\\...       6  \n",
              "3169  [Mannie Fresh]  \\r\\nLadies and gentlemen,  \\r\\...       6  \n",
              "3170  [Lil Wayne]  \\r\\nI got some money on me  \\r\\nI...       6  \n",
              "3171  Ok I'm sippin' on the syrup  \\r\\nGot a nigga m...       6  \n",
              "3172  So you made it, this far,  \\r\\nWe upstairs, I ...       6  \n",
              "...                                                 ...     ...  \n",
              "3651  Give it up, give it up, you know what's on my ...       6  \n",
              "3652  Don't walk away like you always do  \\r\\nThis t...       6  \n",
              "3653  I don't know how much more of this that I can ...       6  \n",
              "3654  I was a fool to say the things I said,  \\r\\nI ...       6  \n",
              "3655  You gotta roll with it  \\r\\nYou gotta take you...       6  \n",
              "\n",
              "[488 rows x 6 columns]"
            ],
            "text/html": [
              "\n",
              "  <div id=\"df-a3f07080-20b6-40c2-b927-5b61933f68d2\" class=\"colab-df-container\">\n",
              "    <div>\n",
              "<style scoped>\n",
              "    .dataframe tbody tr th:only-of-type {\n",
              "        vertical-align: middle;\n",
              "    }\n",
              "\n",
              "    .dataframe tbody tr th {\n",
              "        vertical-align: top;\n",
              "    }\n",
              "\n",
              "    .dataframe thead th {\n",
              "        text-align: right;\n",
              "    }\n",
              "</style>\n",
              "<table border=\"1\" class=\"dataframe\">\n",
              "  <thead>\n",
              "    <tr style=\"text-align: right;\">\n",
              "      <th></th>\n",
              "      <th>songID</th>\n",
              "      <th>artist</th>\n",
              "      <th>song</th>\n",
              "      <th>link</th>\n",
              "      <th>text</th>\n",
              "      <th>userID</th>\n",
              "    </tr>\n",
              "  </thead>\n",
              "  <tbody>\n",
              "    <tr>\n",
              "      <th>3168</th>\n",
              "      <td>41621</td>\n",
              "      <td>Lil Wayne</td>\n",
              "      <td>Bring It Back Ft. Mannie Fresh</td>\n",
              "      <td>/l/lil+wayne/bring+it+back+ft+mannie+fresh_206...</td>\n",
              "      <td>[Mannie Fresh]  \\r\\nLadies and gentlemen,  \\r\\...</td>\n",
              "      <td>6</td>\n",
              "    </tr>\n",
              "    <tr>\n",
              "      <th>3169</th>\n",
              "      <td>41621</td>\n",
              "      <td>Lil Wayne</td>\n",
              "      <td>Bring It Back Ft. Mannie Fresh</td>\n",
              "      <td>/l/lil+wayne/bring+it+back+ft+mannie+fresh_206...</td>\n",
              "      <td>[Mannie Fresh]  \\r\\nLadies and gentlemen,  \\r\\...</td>\n",
              "      <td>6</td>\n",
              "    </tr>\n",
              "    <tr>\n",
              "      <th>3170</th>\n",
              "      <td>41665</td>\n",
              "      <td>Lil Wayne</td>\n",
              "      <td>I Got Some Money On Me</td>\n",
              "      <td>/l/lil+wayne/i+got+some+money+on+me_20982217.html</td>\n",
              "      <td>[Lil Wayne]  \\r\\nI got some money on me  \\r\\nI...</td>\n",
              "      <td>6</td>\n",
              "    </tr>\n",
              "    <tr>\n",
              "      <th>3171</th>\n",
              "      <td>41663</td>\n",
              "      <td>Lil Wayne</td>\n",
              "      <td>I Don't Like The Look Of It</td>\n",
              "      <td>/l/lil+wayne/i+dont+like+the+look+of+it_208927...</td>\n",
              "      <td>Ok I'm sippin' on the syrup  \\r\\nGot a nigga m...</td>\n",
              "      <td>6</td>\n",
              "    </tr>\n",
              "    <tr>\n",
              "      <th>3172</th>\n",
              "      <td>11542</td>\n",
              "      <td>Lil Wayne</td>\n",
              "      <td>Carter Ii</td>\n",
              "      <td>/l/lil+wayne/carter+ii_20367823.html</td>\n",
              "      <td>So you made it, this far,  \\r\\nWe upstairs, I ...</td>\n",
              "      <td>6</td>\n",
              "    </tr>\n",
              "    <tr>\n",
              "      <th>...</th>\n",
              "      <td>...</td>\n",
              "      <td>...</td>\n",
              "      <td>...</td>\n",
              "      <td>...</td>\n",
              "      <td>...</td>\n",
              "      <td>...</td>\n",
              "    </tr>\n",
              "    <tr>\n",
              "      <th>3651</th>\n",
              "      <td>31877</td>\n",
              "      <td>Etta James</td>\n",
              "      <td>Give It Up</td>\n",
              "      <td>/e/etta+james/give+it+up_21063306.html</td>\n",
              "      <td>Give it up, give it up, you know what's on my ...</td>\n",
              "      <td>6</td>\n",
              "    </tr>\n",
              "    <tr>\n",
              "      <th>3652</th>\n",
              "      <td>29428</td>\n",
              "      <td>Demi Lovato</td>\n",
              "      <td>Get Back</td>\n",
              "      <td>/d/demi+lovato/get+back_20747552.html</td>\n",
              "      <td>Don't walk away like you always do  \\r\\nThis t...</td>\n",
              "      <td>6</td>\n",
              "    </tr>\n",
              "    <tr>\n",
              "      <th>3653</th>\n",
              "      <td>22362</td>\n",
              "      <td>Zac Brown Band</td>\n",
              "      <td>Overnight</td>\n",
              "      <td>/z/zac+brown+band/overnight_21022038.html</td>\n",
              "      <td>I don't know how much more of this that I can ...</td>\n",
              "      <td>6</td>\n",
              "    </tr>\n",
              "    <tr>\n",
              "      <th>3654</th>\n",
              "      <td>19378</td>\n",
              "      <td>Tom Jones</td>\n",
              "      <td>I Wanna Get Back With You</td>\n",
              "      <td>/t/tom+jones/i+wanna+get+back+with+you+feat+to...</td>\n",
              "      <td>I was a fool to say the things I said,  \\r\\nI ...</td>\n",
              "      <td>6</td>\n",
              "    </tr>\n",
              "    <tr>\n",
              "      <th>3655</th>\n",
              "      <td>14594</td>\n",
              "      <td>Oasis</td>\n",
              "      <td>Roll With It</td>\n",
              "      <td>/o/oasis/roll+with+it_20102308.html</td>\n",
              "      <td>You gotta roll with it  \\r\\nYou gotta take you...</td>\n",
              "      <td>6</td>\n",
              "    </tr>\n",
              "  </tbody>\n",
              "</table>\n",
              "<p>488 rows × 6 columns</p>\n",
              "</div>\n",
              "    <div class=\"colab-df-buttons\">\n",
              "\n",
              "  <div class=\"colab-df-container\">\n",
              "    <button class=\"colab-df-convert\" onclick=\"convertToInteractive('df-a3f07080-20b6-40c2-b927-5b61933f68d2')\"\n",
              "            title=\"Convert this dataframe to an interactive table.\"\n",
              "            style=\"display:none;\">\n",
              "\n",
              "  <svg xmlns=\"http://www.w3.org/2000/svg\" height=\"24px\" viewBox=\"0 -960 960 960\">\n",
              "    <path d=\"M120-120v-720h720v720H120Zm60-500h600v-160H180v160Zm220 220h160v-160H400v160Zm0 220h160v-160H400v160ZM180-400h160v-160H180v160Zm440 0h160v-160H620v160ZM180-180h160v-160H180v160Zm440 0h160v-160H620v160Z\"/>\n",
              "  </svg>\n",
              "    </button>\n",
              "\n",
              "  <style>\n",
              "    .colab-df-container {\n",
              "      display:flex;\n",
              "      gap: 12px;\n",
              "    }\n",
              "\n",
              "    .colab-df-convert {\n",
              "      background-color: #E8F0FE;\n",
              "      border: none;\n",
              "      border-radius: 50%;\n",
              "      cursor: pointer;\n",
              "      display: none;\n",
              "      fill: #1967D2;\n",
              "      height: 32px;\n",
              "      padding: 0 0 0 0;\n",
              "      width: 32px;\n",
              "    }\n",
              "\n",
              "    .colab-df-convert:hover {\n",
              "      background-color: #E2EBFA;\n",
              "      box-shadow: 0px 1px 2px rgba(60, 64, 67, 0.3), 0px 1px 3px 1px rgba(60, 64, 67, 0.15);\n",
              "      fill: #174EA6;\n",
              "    }\n",
              "\n",
              "    .colab-df-buttons div {\n",
              "      margin-bottom: 4px;\n",
              "    }\n",
              "\n",
              "    [theme=dark] .colab-df-convert {\n",
              "      background-color: #3B4455;\n",
              "      fill: #D2E3FC;\n",
              "    }\n",
              "\n",
              "    [theme=dark] .colab-df-convert:hover {\n",
              "      background-color: #434B5C;\n",
              "      box-shadow: 0px 1px 3px 1px rgba(0, 0, 0, 0.15);\n",
              "      filter: drop-shadow(0px 1px 2px rgba(0, 0, 0, 0.3));\n",
              "      fill: #FFFFFF;\n",
              "    }\n",
              "  </style>\n",
              "\n",
              "    <script>\n",
              "      const buttonEl =\n",
              "        document.querySelector('#df-a3f07080-20b6-40c2-b927-5b61933f68d2 button.colab-df-convert');\n",
              "      buttonEl.style.display =\n",
              "        google.colab.kernel.accessAllowed ? 'block' : 'none';\n",
              "\n",
              "      async function convertToInteractive(key) {\n",
              "        const element = document.querySelector('#df-a3f07080-20b6-40c2-b927-5b61933f68d2');\n",
              "        const dataTable =\n",
              "          await google.colab.kernel.invokeFunction('convertToInteractive',\n",
              "                                                    [key], {});\n",
              "        if (!dataTable) return;\n",
              "\n",
              "        const docLinkHtml = 'Like what you see? Visit the ' +\n",
              "          '<a target=\"_blank\" href=https://colab.research.google.com/notebooks/data_table.ipynb>data table notebook</a>'\n",
              "          + ' to learn more about interactive tables.';\n",
              "        element.innerHTML = '';\n",
              "        dataTable['output_type'] = 'display_data';\n",
              "        await google.colab.output.renderOutput(dataTable, element);\n",
              "        const docLink = document.createElement('div');\n",
              "        docLink.innerHTML = docLinkHtml;\n",
              "        element.appendChild(docLink);\n",
              "      }\n",
              "    </script>\n",
              "  </div>\n",
              "\n",
              "\n",
              "<div id=\"df-5d340d47-2ded-4066-9fae-f5eae501a7e8\">\n",
              "  <button class=\"colab-df-quickchart\" onclick=\"quickchart('df-5d340d47-2ded-4066-9fae-f5eae501a7e8')\"\n",
              "            title=\"Suggest charts\"\n",
              "            style=\"display:none;\">\n",
              "\n",
              "<svg xmlns=\"http://www.w3.org/2000/svg\" height=\"24px\"viewBox=\"0 0 24 24\"\n",
              "     width=\"24px\">\n",
              "    <g>\n",
              "        <path d=\"M19 3H5c-1.1 0-2 .9-2 2v14c0 1.1.9 2 2 2h14c1.1 0 2-.9 2-2V5c0-1.1-.9-2-2-2zM9 17H7v-7h2v7zm4 0h-2V7h2v10zm4 0h-2v-4h2v4z\"/>\n",
              "    </g>\n",
              "</svg>\n",
              "  </button>\n",
              "\n",
              "<style>\n",
              "  .colab-df-quickchart {\n",
              "      --bg-color: #E8F0FE;\n",
              "      --fill-color: #1967D2;\n",
              "      --hover-bg-color: #E2EBFA;\n",
              "      --hover-fill-color: #174EA6;\n",
              "      --disabled-fill-color: #AAA;\n",
              "      --disabled-bg-color: #DDD;\n",
              "  }\n",
              "\n",
              "  [theme=dark] .colab-df-quickchart {\n",
              "      --bg-color: #3B4455;\n",
              "      --fill-color: #D2E3FC;\n",
              "      --hover-bg-color: #434B5C;\n",
              "      --hover-fill-color: #FFFFFF;\n",
              "      --disabled-bg-color: #3B4455;\n",
              "      --disabled-fill-color: #666;\n",
              "  }\n",
              "\n",
              "  .colab-df-quickchart {\n",
              "    background-color: var(--bg-color);\n",
              "    border: none;\n",
              "    border-radius: 50%;\n",
              "    cursor: pointer;\n",
              "    display: none;\n",
              "    fill: var(--fill-color);\n",
              "    height: 32px;\n",
              "    padding: 0;\n",
              "    width: 32px;\n",
              "  }\n",
              "\n",
              "  .colab-df-quickchart:hover {\n",
              "    background-color: var(--hover-bg-color);\n",
              "    box-shadow: 0 1px 2px rgba(60, 64, 67, 0.3), 0 1px 3px 1px rgba(60, 64, 67, 0.15);\n",
              "    fill: var(--button-hover-fill-color);\n",
              "  }\n",
              "\n",
              "  .colab-df-quickchart-complete:disabled,\n",
              "  .colab-df-quickchart-complete:disabled:hover {\n",
              "    background-color: var(--disabled-bg-color);\n",
              "    fill: var(--disabled-fill-color);\n",
              "    box-shadow: none;\n",
              "  }\n",
              "\n",
              "  .colab-df-spinner {\n",
              "    border: 2px solid var(--fill-color);\n",
              "    border-color: transparent;\n",
              "    border-bottom-color: var(--fill-color);\n",
              "    animation:\n",
              "      spin 1s steps(1) infinite;\n",
              "  }\n",
              "\n",
              "  @keyframes spin {\n",
              "    0% {\n",
              "      border-color: transparent;\n",
              "      border-bottom-color: var(--fill-color);\n",
              "      border-left-color: var(--fill-color);\n",
              "    }\n",
              "    20% {\n",
              "      border-color: transparent;\n",
              "      border-left-color: var(--fill-color);\n",
              "      border-top-color: var(--fill-color);\n",
              "    }\n",
              "    30% {\n",
              "      border-color: transparent;\n",
              "      border-left-color: var(--fill-color);\n",
              "      border-top-color: var(--fill-color);\n",
              "      border-right-color: var(--fill-color);\n",
              "    }\n",
              "    40% {\n",
              "      border-color: transparent;\n",
              "      border-right-color: var(--fill-color);\n",
              "      border-top-color: var(--fill-color);\n",
              "    }\n",
              "    60% {\n",
              "      border-color: transparent;\n",
              "      border-right-color: var(--fill-color);\n",
              "    }\n",
              "    80% {\n",
              "      border-color: transparent;\n",
              "      border-right-color: var(--fill-color);\n",
              "      border-bottom-color: var(--fill-color);\n",
              "    }\n",
              "    90% {\n",
              "      border-color: transparent;\n",
              "      border-bottom-color: var(--fill-color);\n",
              "    }\n",
              "  }\n",
              "</style>\n",
              "\n",
              "  <script>\n",
              "    async function quickchart(key) {\n",
              "      const quickchartButtonEl =\n",
              "        document.querySelector('#' + key + ' button');\n",
              "      quickchartButtonEl.disabled = true;  // To prevent multiple clicks.\n",
              "      quickchartButtonEl.classList.add('colab-df-spinner');\n",
              "      try {\n",
              "        const charts = await google.colab.kernel.invokeFunction(\n",
              "            'suggestCharts', [key], {});\n",
              "      } catch (error) {\n",
              "        console.error('Error during call to suggestCharts:', error);\n",
              "      }\n",
              "      quickchartButtonEl.classList.remove('colab-df-spinner');\n",
              "      quickchartButtonEl.classList.add('colab-df-quickchart-complete');\n",
              "    }\n",
              "    (() => {\n",
              "      let quickchartButtonEl =\n",
              "        document.querySelector('#df-5d340d47-2ded-4066-9fae-f5eae501a7e8 button');\n",
              "      quickchartButtonEl.style.display =\n",
              "        google.colab.kernel.accessAllowed ? 'block' : 'none';\n",
              "    })();\n",
              "  </script>\n",
              "</div>\n",
              "\n",
              "  <div id=\"id_4e1a8801-2ec1-4ef0-b965-deb349411f56\">\n",
              "    <style>\n",
              "      .colab-df-generate {\n",
              "        background-color: #E8F0FE;\n",
              "        border: none;\n",
              "        border-radius: 50%;\n",
              "        cursor: pointer;\n",
              "        display: none;\n",
              "        fill: #1967D2;\n",
              "        height: 32px;\n",
              "        padding: 0 0 0 0;\n",
              "        width: 32px;\n",
              "      }\n",
              "\n",
              "      .colab-df-generate:hover {\n",
              "        background-color: #E2EBFA;\n",
              "        box-shadow: 0px 1px 2px rgba(60, 64, 67, 0.3), 0px 1px 3px 1px rgba(60, 64, 67, 0.15);\n",
              "        fill: #174EA6;\n",
              "      }\n",
              "\n",
              "      [theme=dark] .colab-df-generate {\n",
              "        background-color: #3B4455;\n",
              "        fill: #D2E3FC;\n",
              "      }\n",
              "\n",
              "      [theme=dark] .colab-df-generate:hover {\n",
              "        background-color: #434B5C;\n",
              "        box-shadow: 0px 1px 3px 1px rgba(0, 0, 0, 0.15);\n",
              "        filter: drop-shadow(0px 1px 2px rgba(0, 0, 0, 0.3));\n",
              "        fill: #FFFFFF;\n",
              "      }\n",
              "    </style>\n",
              "    <button class=\"colab-df-generate\" onclick=\"generateWithVariable('random_user_preferences')\"\n",
              "            title=\"Generate code using this dataframe.\"\n",
              "            style=\"display:none;\">\n",
              "\n",
              "  <svg xmlns=\"http://www.w3.org/2000/svg\" height=\"24px\"viewBox=\"0 0 24 24\"\n",
              "       width=\"24px\">\n",
              "    <path d=\"M7,19H8.4L18.45,9,17,7.55,7,17.6ZM5,21V16.75L18.45,3.32a2,2,0,0,1,2.83,0l1.4,1.43a1.91,1.91,0,0,1,.58,1.4,1.91,1.91,0,0,1-.58,1.4L9.25,21ZM18.45,9,17,7.55Zm-12,3A5.31,5.31,0,0,0,4.9,8.1,5.31,5.31,0,0,0,1,6.5,5.31,5.31,0,0,0,4.9,4.9,5.31,5.31,0,0,0,6.5,1,5.31,5.31,0,0,0,8.1,4.9,5.31,5.31,0,0,0,12,6.5,5.46,5.46,0,0,0,6.5,12Z\"/>\n",
              "  </svg>\n",
              "    </button>\n",
              "    <script>\n",
              "      (() => {\n",
              "      const buttonEl =\n",
              "        document.querySelector('#id_4e1a8801-2ec1-4ef0-b965-deb349411f56 button.colab-df-generate');\n",
              "      buttonEl.style.display =\n",
              "        google.colab.kernel.accessAllowed ? 'block' : 'none';\n",
              "\n",
              "      buttonEl.onclick = () => {\n",
              "        google.colab.notebook.generateWithVariable('random_user_preferences');\n",
              "      }\n",
              "      })();\n",
              "    </script>\n",
              "  </div>\n",
              "\n",
              "    </div>\n",
              "  </div>\n"
            ],
            "application/vnd.google.colaboratory.intrinsic+json": {
              "type": "dataframe",
              "variable_name": "random_user_preferences",
              "summary": "{\n  \"name\": \"random_user_preferences\",\n  \"rows\": 488,\n  \"fields\": [\n    {\n      \"column\": \"songID\",\n      \"properties\": {\n        \"dtype\": \"number\",\n        \"std\": 16764,\n        \"min\": 105,\n        \"max\": 57345,\n        \"num_unique_values\": 406,\n        \"samples\": [\n          4644,\n          20754,\n          41742\n        ],\n        \"semantic_type\": \"\",\n        \"description\": \"\"\n      }\n    },\n    {\n      \"column\": \"artist\",\n      \"properties\": {\n        \"dtype\": \"category\",\n        \"num_unique_values\": 240,\n        \"samples\": [\n          \"Adele\",\n          \"Helloween\",\n          \"Yellowcard\"\n        ],\n        \"semantic_type\": \"\",\n        \"description\": \"\"\n      }\n    },\n    {\n      \"column\": \"song\",\n      \"properties\": {\n        \"dtype\": \"string\",\n        \"num_unique_values\": 385,\n        \"samples\": [\n          \"Great Expectations\",\n          \"Let's Get The Show On The Road\",\n          \"I Fall In Love So Easily\"\n        ],\n        \"semantic_type\": \"\",\n        \"description\": \"\"\n      }\n    },\n    {\n      \"column\": \"link\",\n      \"properties\": {\n        \"dtype\": \"string\",\n        \"num_unique_values\": 406,\n        \"samples\": [\n          \"/e/eagles/try+love+again_20044487.html\",\n          \"/v/vertical+horizon/even+now_20853030.html\",\n          \"/l/linkin+park/believe+me_20157227.html\"\n        ],\n        \"semantic_type\": \"\",\n        \"description\": \"\"\n      }\n    },\n    {\n      \"column\": \"text\",\n      \"properties\": {\n        \"dtype\": \"string\",\n        \"num_unique_values\": 406,\n        \"samples\": [\n          \"When you're out there on your own  \\r\\nWhere your memories can find you  \\r\\nLike a circle goes around  \\r\\nYou were lost until you found out  \\r\\nWhat it all comes down to  \\r\\n  \\r\\nOne by one  \\r\\nThe lonely feelings come  \\r\\nDay by day, they slowly fade away  \\r\\n  \\r\\nOoh, the look was in her eyes  \\r\\nYou never know what might be found there  \\r\\nShe was dancing right in time  \\r\\nAnd the moves she made so fine  \\r\\nLike the music that surrounds her  \\r\\n  \\r\\nShould I stay or go?  \\r\\nI really want to know  \\r\\nWould I loose or win  \\r\\nIf I try and love again?  \\r\\nOh oh oh gonna try and love again  \\r\\nOh oh oh I'm gonna try and love again  \\r\\nOh oh oh gonna try and love  \\r\\n  \\r\\nRight or wrong, what's done is done  \\r\\nIt's only moments that you borrow  \\r\\nBut the thoughts will linger on  \\r\\nOf the lady and her song  \\r\\nWhen the sun comes up tomorrow  \\r\\n  \\r\\nWell, it might take years  \\r\\nTo see through all these tears  \\r\\nDon't let go  \\r\\nWhen you find it you will know  \\r\\n  \\r\\nOh oh oh, gonna try and love again  \\r\\nOh oh oh, gonna try and love again  \\r\\nOh oh oh, gonna try and love again  \\r\\nOh oh oh  \\r\\nOh oh oh  \\r\\nSometimes lose, sometimes win,  \\r\\nSometimes you need a friend  \\r\\nOh oh oh  \\r\\nOh oh oh  \\r\\nGonna try,  \\r\\nGonna try  \\r\\nGonna try, gonna try, gonna try, gonna try  \\r\\nGonna try, gonna try, gonna try, gonna try  \\r\\nGonna try, gonna try, gonna try, gonna try  \\r\\nGonna try  \\r\\nGonna try, gonna try, gonna try, gonna try  \\r\\nGonna try, gonna try, gonna try, gonna try  \\r\\nGonna try, gonna try, gonna try, gonna try  \\r\\nGonna try\\r\\n\\r\\n\",\n          \"Even now  \\r\\nAfter all these years  \\r\\nI think about you with both joy and pain  \\r\\nEven now  \\r\\nI remember when you left  \\r\\nI walked all night through the rain  \\r\\nBroken and lost swearing I'd never love that way again  \\r\\n  \\r\\nEven then you were aiming much higher  \\r\\nSomewhere higher  \\r\\nThen you thought i could fly  \\r\\n  \\r\\nEven then you were looking for rainbows  \\r\\nSomething more  \\r\\nThen the cloudless blue sky  \\r\\n  \\r\\nNow you tell me you were wrong  \\r\\nYou never should have left me for an empty dream  \\r\\nAnd now you spill out your regrets  \\r\\nA mighty river to a bitter stream  \\r\\nLying awake thinking about all that might have been  \\r\\nI guess we're even now  \\r\\nI guess we're even now  \\r\\n  \\r\\nEven now  \\r\\nMore often then I'd like  \\r\\nI think of you and the place we used to share  \\r\\n  \\r\\nEven now  \\r\\nI remember all the songs  \\r\\nAnd the perfume in your hair  \\r\\nI was carried away until you cut me down in mid air  \\r\\n  \\r\\nEven then  \\r\\nThere was something inside you  \\r\\nSomething bright  \\r\\nThat was burning so cold  \\r\\n  \\r\\nEven then  \\r\\nThere was something about you  \\r\\nSomething dark  \\r\\nThat I couldn't hold  \\r\\n  \\r\\nAnd now you tell me that your life  \\r\\nHas never been the free flight you thought it would be  \\r\\nAnd now you know it's way to late  \\r\\nAll we've got is history  \\r\\nYou know that when I lost you, you lost me  \\r\\nI guess we're even now  \\r\\nOh  \\r\\nI guess we're even now  \\r\\nI think we're even now  \\r\\n  \\r\\nEven then  \\r\\nYou were looking for rainbows  \\r\\nEven then  \\r\\nIn a perfect blue sky  \\r\\n  \\r\\nI guess we're even now  \\r\\nI guess we're even now  \\r\\nI think we're even now  \\r\\nCould be we're even now  \\r\\nI think we're even now  \\r\\nI think we're even now  \\r\\nI think we're even now  \\r\\n  \\r\\nAll that summer  \\r\\nIn the moonlight  \\r\\nYou were dreaming  \\r\\nI was believing  \\r\\n  \\r\\nAll that summer  \\r\\n(All that summer)  \\r\\nIn the moonlight  \\r\\n(In the moonlight)  \\r\\nYou were dreaming  \\r\\n(You were dreaming)  \\r\\nI was believing\\r\\n\\r\\n\",\n          \"(Yeah)  \\r\\n  \\r\\n[Chorus:]  \\r\\nI guess,  \\r\\nThat this is where we've come to,  \\r\\nIf you don't want to,  \\r\\nThen you don't have to,  \\r\\nBelieve me,  \\r\\nBut I, won't be there when you go down,  \\r\\nJust so you know now,  \\r\\nYou're on your own now, believe me.  \\r\\n  \\r\\n(Yeah)  \\r\\n  \\r\\nI don't wanna be the one to blame,  \\r\\nYou like fun and games,  \\r\\nKeep playin' them,  \\r\\nI'm just sayin',  \\r\\nThink back then,  \\r\\nWe was like one and the same,  \\r\\nOn the right track,  \\r\\nBut I was on the wrong train,  \\r\\nIt's like that,  \\r\\nNow you've gotta face the pain,  \\r\\nAnd the devil's got a fresh new place to play,  \\r\\nIn your brain, like a maze, you could never escape the rain,  \\r\\nEvery damn day's the same shade of grey,  \\r\\n  \\r\\n(Hey)  \\r\\n  \\r\\nI used to have a little bit of a plan,  \\r\\nUsed to, have a concept of where I stand,  \\r\\nBut that concept slipped right outta my hand,  \\r\\nAnd now, I don't really even know who I am, yo,  \\r\\nWhat do I have to say,  \\r\\nMaybe, I should do what I have to do, to break free,  \\r\\nAnd, whatever happens to you, we'll see,  \\r\\nBut it's not gonna happen with me,  \\r\\n  \\r\\n[Chorus:]  \\r\\nI guess,  \\r\\nThat this is where we've come to (yeah),  \\r\\nIf you don't want to,  \\r\\nThen you don't have to,  \\r\\nBelieve me,  \\r\\nBut I, won't be there when you go down (yeah),  \\r\\nJust so you know now,  \\r\\nYou're on your own now, believe me.  \\r\\n  \\r\\nBack then, I thought you were just like me,  \\r\\nSomebody who could see all the pain I see,  \\r\\nBut you proved to me, unintentionally,  \\r\\nThat you would self-destruct, eventually,  \\r\\nNow I'm thinking like a mistake I made doesn't hurt, but,  \\r\\nIt's not gonna work,  \\r\\n''cause it's really much worse than I thought,  \\r\\nI wished you were something you were not,  \\r\\nAnd now this guilt is really all that I've got, (all)  \\r\\n  \\r\\nYou turn your back and walk away in shame,  \\r\\nAll you got is a memory of pain,  \\r\\nNothing makes sense if you stare at the ground,  \\r\\nI hear my voice in your head when no-one else is around(else is around)  \\r\\nSo what do I have to say,  \\r\\nMaybe, I should do what I have to do, to break free,  \\r\\nAnd, whatever happens to you, we'll see,  \\r\\nBut it's not gonna happen with me,  \\r\\n  \\r\\n[Chorus:]  \\r\\nI guess,  \\r\\nThat this is where we've come to (yeah),  \\r\\nIf you don't want to,  \\r\\nThen you don't have to,  \\r\\nBelieve me,  \\r\\nBut I, won't be there when you go down (yeah),  \\r\\nJust so you know now,  \\r\\nYou're on your own now, believe me.  \\r\\n  \\r\\n(Yeah!)  \\r\\n  \\r\\n(yeah)  \\r\\n  \\r\\n(Yo!)  \\r\\n  \\r\\n[Chorus:]  \\r\\nI guess,  \\r\\nThat this is where we've come to (yeah),  \\r\\nIf you don't want to,  \\r\\nThen you don't have to,  \\r\\nBelieve me,  \\r\\nBut I, won't be there when you go down (yeah),  \\r\\nJust so you know now,  \\r\\nYou're on your own now, believe me.  \\r\\n  \\r\\n(I'll do what I have to do)  \\r\\nYou're on your own now, believe me.  \\r\\n(Whatever happens to you)  \\r\\nYou're on your own now, believe me.  \\r\\n(What do I have to say)  \\r\\nYou're on your own now, believe me.  \\r\\n(It's not gonna happen to me)  \\r\\nYou're on your own now, believe me.\\r\\n\\r\\n\"\n        ],\n        \"semantic_type\": \"\",\n        \"description\": \"\"\n      }\n    },\n    {\n      \"column\": \"userID\",\n      \"properties\": {\n        \"dtype\": \"number\",\n        \"std\": 0,\n        \"min\": 6,\n        \"max\": 6,\n        \"num_unique_values\": 1,\n        \"samples\": [\n          6\n        ],\n        \"semantic_type\": \"\",\n        \"description\": \"\"\n      }\n    }\n  ]\n}"
            }
          },
          "metadata": {},
          "execution_count": 63
        }
      ]
    },
    {
      "cell_type": "markdown",
      "source": [
        "## User Preferences: Artists"
      ],
      "metadata": {
        "id": "el3U_4o7uwmJ"
      }
    },
    {
      "cell_type": "code",
      "source": [
        "user_preferences.groupby(by=['artist']).count().mean(axis=1).hist()"
      ],
      "metadata": {
        "colab": {
          "base_uri": "https://localhost:8080/",
          "height": 448
        },
        "id": "jaAfcehsrPJS",
        "outputId": "169cee34-6852-466f-9070-623e0a96b103"
      },
      "execution_count": 48,
      "outputs": [
        {
          "output_type": "execute_result",
          "data": {
            "text/plain": [
              "<Axes: >"
            ]
          },
          "metadata": {},
          "execution_count": 48
        },
        {
          "output_type": "display_data",
          "data": {
            "text/plain": [
              "<Figure size 640x480 with 1 Axes>"
            ],
            "image/png": "[encoded data removed]"
          },
          "metadata": {}
        }
      ]
    },
    {
      "cell_type": "markdown",
      "source": [
        "In the above plot, we can see that a majority of artists make 0-20 appearances across all 10 users, on average. Some artists are outliers and appear up to 60 times!"
      ],
      "metadata": {
        "id": "q_AfVkFRuNbI"
      }
    },
    {
      "cell_type": "code",
      "source": [],
      "metadata": {
        "colab": {
          "base_uri": "https://localhost:8080/",
          "height": 448
        },
        "id": "Zwk_1GvksZpq",
        "outputId": "0e91ac6f-3197-458b-b050-031ce4697f08"
      },
      "execution_count": 50,
      "outputs": [
        {
          "output_type": "execute_result",
          "data": {
            "text/plain": [
              "<Axes: >"
            ]
          },
          "metadata": {},
          "execution_count": 50
        },
        {
          "output_type": "display_data",
          "data": {
            "text/plain": [
              "<Figure size 640x480 with 1 Axes>"
            ],
            "image/png": "[encoded data removed]"
          },
          "metadata": {}
        }
      ]
    },
    {
      "cell_type": "markdown",
      "source": [
        "## User Preferences: Top Artists\n",
        "\n",
        "Songs are not as commonly distributed across users as artists. This makes sense as artist's tend to have multiple songs and albums, whereas songs are unique to a single artist, so it's less likely users have songs in common - but they may have artists in common.\n",
        "\n",
        "**Our neural network model can be evaluated based on whether the song recommendations it makes perform well when using top-k categorical classification accuracy along the user preferences.**"
      ],
      "metadata": {
        "id": "uH3XD1W7u0B-"
      }
    },
    {
      "cell_type": "code",
      "source": [
        "# lets visualize the top 10 artist across all userIDs\n",
        "for user in user_preferences.groupby(by='userID'):\n",
        "  print('User: ', user[0])\n",
        "  print('###############')\n",
        "  display(user_preferences[user_preferences['userID'] == user[0]].groupby(by=['artist']).count().mean(axis=1).sort_values(ascending=False).head(10))\n",
        "  print('###############')"
      ],
      "metadata": {
        "colab": {
          "base_uri": "https://localhost:8080/",
          "height": 1000
        },
        "id": "9_9rdgxlulMc",
        "outputId": "70e65bc1-ff78-4784-ef50-96ae0ceeb6de"
      },
      "execution_count": 82,
      "outputs": [
        {
          "output_type": "stream",
          "name": "stdout",
          "text": [
            "User:  0\n",
            "###############\n"
          ]
        },
        {
          "output_type": "display_data",
          "data": {
            "text/plain": [
              "artist\n",
              "Foreigner          13.0\n",
              "Cliff Richard       9.0\n",
              "Luther Vandross     8.0\n",
              "Cheap Trick         8.0\n",
              "Leann Rimes         7.0\n",
              "Reba Mcentire       7.0\n",
              "One Direction       7.0\n",
              "Lea Salonga         7.0\n",
              "Usher               6.0\n",
              "Leo Sayer           6.0\n",
              "dtype: float64"
            ]
          },
          "metadata": {}
        },
        {
          "output_type": "stream",
          "name": "stdout",
          "text": [
            "###############\n",
            "User:  1\n",
            "###############\n"
          ]
        },
        {
          "output_type": "display_data",
          "data": {
            "text/plain": [
              "artist\n",
              "Westlife           13.0\n",
              "John Legend        10.0\n",
              "Air Supply          9.0\n",
              "Foreigner           9.0\n",
              "Michael Bolton      9.0\n",
              "Luther Vandross     8.0\n",
              "Cliff Richard       8.0\n",
              "George Michael      7.0\n",
              "Chris Brown         7.0\n",
              "Usher               7.0\n",
              "dtype: float64"
            ]
          },
          "metadata": {}
        },
        {
          "output_type": "stream",
          "name": "stdout",
          "text": [
            "###############\n",
            "User:  2\n",
            "###############\n"
          ]
        },
        {
          "output_type": "display_data",
          "data": {
            "text/plain": [
              "artist\n",
              "Fleetwood Mac            9.0\n",
              "Michael Jackson          8.0\n",
              "Modern Talking           6.0\n",
              "Westlife                 6.0\n",
              "Engelbert Humperdinck    6.0\n",
              "Glen Campbell            5.0\n",
              "Cher                     5.0\n",
              "Etta James               4.0\n",
              "Leann Rimes              4.0\n",
              "Roxette                  4.0\n",
              "dtype: float64"
            ]
          },
          "metadata": {}
        },
        {
          "output_type": "stream",
          "name": "stdout",
          "text": [
            "###############\n",
            "User:  3\n",
            "###############\n"
          ]
        },
        {
          "output_type": "display_data",
          "data": {
            "text/plain": [
              "artist\n",
              "Fleetwood Mac       8.0\n",
              "Barbra Streisand    7.0\n",
              "Rihanna             6.0\n",
              "Mc Hammer           6.0\n",
              "Luther Vandross     6.0\n",
              "Eric Clapton        6.0\n",
              "Lionel Richie       5.0\n",
              "Mariah Carey        5.0\n",
              "Kiss                5.0\n",
              "Westlife            5.0\n",
              "dtype: float64"
            ]
          },
          "metadata": {}
        },
        {
          "output_type": "stream",
          "name": "stdout",
          "text": [
            "###############\n",
            "User:  4\n",
            "###############\n"
          ]
        },
        {
          "output_type": "display_data",
          "data": {
            "text/plain": [
              "artist\n",
              "Westlife           7.0\n",
              "Michael Jackson    7.0\n",
              "Diana Ross         6.0\n",
              "Chaka Khan         6.0\n",
              "Neil Diamond       6.0\n",
              "Usher              6.0\n",
              "Luther Vandross    5.0\n",
              "Miley Cyrus        5.0\n",
              "Leann Rimes        5.0\n",
              "Santana            5.0\n",
              "dtype: float64"
            ]
          },
          "metadata": {}
        },
        {
          "output_type": "stream",
          "name": "stdout",
          "text": [
            "###############\n",
            "User:  5\n",
            "###############\n"
          ]
        },
        {
          "output_type": "display_data",
          "data": {
            "text/plain": [
              "artist\n",
              "Planetshakers            9.0\n",
              "Luther Vandross          9.0\n",
              "Engelbert Humperdinck    7.0\n",
              "Bonnie Raitt             6.0\n",
              "Puff Daddy               6.0\n",
              "Offspring                5.0\n",
              "Demi Lovato              5.0\n",
              "Janis Joplin             5.0\n",
              "Dusty Springfield        5.0\n",
              "Usher                    5.0\n",
              "dtype: float64"
            ]
          },
          "metadata": {}
        },
        {
          "output_type": "stream",
          "name": "stdout",
          "text": [
            "###############\n",
            "User:  6\n",
            "###############\n"
          ]
        },
        {
          "output_type": "display_data",
          "data": {
            "text/plain": [
              "artist\n",
              "Foreigner         9.0\n",
              "Diana Ross        7.0\n",
              "Lil Wayne         7.0\n",
              "Vince Gill        7.0\n",
              "One Direction     7.0\n",
              "Jennifer Lopez    6.0\n",
              "Neil Diamond      6.0\n",
              "Cliff Richard     6.0\n",
              "Dolly Parton      6.0\n",
              "Cher              6.0\n",
              "dtype: float64"
            ]
          },
          "metadata": {}
        },
        {
          "output_type": "stream",
          "name": "stdout",
          "text": [
            "###############\n",
            "User:  7\n",
            "###############\n"
          ]
        },
        {
          "output_type": "display_data",
          "data": {
            "text/plain": [
              "artist\n",
              "Westlife                 10.0\n",
              "Bonnie Raitt             10.0\n",
              "'n Sync                   8.0\n",
              "Luther Vandross           8.0\n",
              "Michael Jackson           8.0\n",
              "Willie Nelson             7.0\n",
              "Cheap Trick               7.0\n",
              "Dusty Springfield         7.0\n",
              "Jackson Browne            7.0\n",
              "Engelbert Humperdinck     7.0\n",
              "dtype: float64"
            ]
          },
          "metadata": {}
        },
        {
          "output_type": "stream",
          "name": "stdout",
          "text": [
            "###############\n",
            "User:  8\n",
            "###############\n"
          ]
        },
        {
          "output_type": "display_data",
          "data": {
            "text/plain": [
              "artist\n",
              "Bonnie Raitt       13.0\n",
              "Avril Lavigne      12.0\n",
              "Foreigner          11.0\n",
              "Kenny Rogers        9.0\n",
              "Rihanna             9.0\n",
              "Michael Bolton      8.0\n",
              "Usher               8.0\n",
              "Westlife            7.0\n",
              "Michael Jackson     7.0\n",
              "Virgin Steele       7.0\n",
              "dtype: float64"
            ]
          },
          "metadata": {}
        },
        {
          "output_type": "stream",
          "name": "stdout",
          "text": [
            "###############\n",
            "User:  9\n",
            "###############\n"
          ]
        },
        {
          "output_type": "display_data",
          "data": {
            "text/plain": [
              "artist\n",
              "Avril Lavigne      8.0\n",
              "Gucci Mane         7.0\n",
              "Evanescence        5.0\n",
              "Adele              5.0\n",
              "Z-Ro               5.0\n",
              "Luther Vandross    5.0\n",
              "Lionel Richie      5.0\n",
              "Demi Lovato        5.0\n",
              "'n Sync            4.0\n",
              "Kyla               4.0\n",
              "dtype: float64"
            ]
          },
          "metadata": {}
        },
        {
          "output_type": "stream",
          "name": "stdout",
          "text": [
            "###############\n"
          ]
        }
      ]
    },
    {
      "cell_type": "code",
      "source": [],
      "metadata": {
        "id": "Mg6oR8l5w5sU"
      },
      "execution_count": null,
      "outputs": []
    }
  ]
}